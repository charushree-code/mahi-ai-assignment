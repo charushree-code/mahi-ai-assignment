{
  "nbformat": 4,
  "nbformat_minor": 0,
  "metadata": {
    "colab": {
      "name": "assignment2.ipynb",
      "provenance": [],
      "collapsed_sections": [],
      "authorship_tag": "ABX9TyPSgrnIzism5nrB03Z6xzPI",
      "include_colab_link": true
    },
    "kernelspec": {
      "name": "python3",
      "display_name": "Python 3"
    },
    "language_info": {
      "name": "python"
    }
  },
  "cells": [
    {
      "cell_type": "markdown",
      "metadata": {
        "id": "view-in-github",
        "colab_type": "text"
      },
      "source": [
        "<a href=\"https://colab.research.google.com/github/charushree-code/mahi-ai-assignment/blob/main/assignment2.ipynb\" target=\"_parent\"><img src=\"https://colab.research.google.com/assets/colab-badge.svg\" alt=\"Open In Colab\"/></a>"
      ]
    },
    {
      "cell_type": "code",
      "metadata": {
        "id": "drFH17Hl84y1"
      },
      "source": [
        "import pandas as pd\n",
        "import numpy as np\n",
        "from sklearn.model_selection import train_test_split\n",
        "from sklearn.preprocessing import MinMaxScaler,LabelEncoder\n",
        "from tensorflow.keras.models import Sequential\n",
        "from tensorflow.keras.layers import Dense,Activation,Dropout\n",
        "from tensorflow.keras.utils import to_categorical\n",
        "from tensorflow.keras.callbacks import EarlyStopping\n",
        "from sklearn.metrics import classification_report,confusion_matrix"
      ],
      "execution_count": null,
      "outputs": []
    },
    {
      "cell_type": "code",
      "metadata": {
        "id": "QkExCsnm-b4U"
      },
      "source": [
        "df=pd.read_csv('iris.csv')"
      ],
      "execution_count": null,
      "outputs": []
    },
    {
      "cell_type": "code",
      "metadata": {
        "id": "dlxpdZ1m-6GR",
        "colab": {
          "base_uri": "https://localhost:8080/",
          "height": 419
        },
        "outputId": "4a4067ef-eb53-482c-9880-deb46a7fe14b"
      },
      "source": [
        "df"
      ],
      "execution_count": null,
      "outputs": [
        {
          "output_type": "execute_result",
          "data": {
            "text/html": [
              "<div>\n",
              "<style scoped>\n",
              "    .dataframe tbody tr th:only-of-type {\n",
              "        vertical-align: middle;\n",
              "    }\n",
              "\n",
              "    .dataframe tbody tr th {\n",
              "        vertical-align: top;\n",
              "    }\n",
              "\n",
              "    .dataframe thead th {\n",
              "        text-align: right;\n",
              "    }\n",
              "</style>\n",
              "<table border=\"1\" class=\"dataframe\">\n",
              "  <thead>\n",
              "    <tr style=\"text-align: right;\">\n",
              "      <th></th>\n",
              "      <th>sepal_length</th>\n",
              "      <th>sepal_width</th>\n",
              "      <th>petal_length</th>\n",
              "      <th>petal_width</th>\n",
              "      <th>species</th>\n",
              "    </tr>\n",
              "  </thead>\n",
              "  <tbody>\n",
              "    <tr>\n",
              "      <th>0</th>\n",
              "      <td>5.1</td>\n",
              "      <td>3.5</td>\n",
              "      <td>1.4</td>\n",
              "      <td>0.2</td>\n",
              "      <td>setosa</td>\n",
              "    </tr>\n",
              "    <tr>\n",
              "      <th>1</th>\n",
              "      <td>4.9</td>\n",
              "      <td>3.0</td>\n",
              "      <td>1.4</td>\n",
              "      <td>0.2</td>\n",
              "      <td>setosa</td>\n",
              "    </tr>\n",
              "    <tr>\n",
              "      <th>2</th>\n",
              "      <td>4.7</td>\n",
              "      <td>3.2</td>\n",
              "      <td>1.3</td>\n",
              "      <td>0.2</td>\n",
              "      <td>setosa</td>\n",
              "    </tr>\n",
              "    <tr>\n",
              "      <th>3</th>\n",
              "      <td>4.6</td>\n",
              "      <td>3.1</td>\n",
              "      <td>1.5</td>\n",
              "      <td>0.2</td>\n",
              "      <td>setosa</td>\n",
              "    </tr>\n",
              "    <tr>\n",
              "      <th>4</th>\n",
              "      <td>5.0</td>\n",
              "      <td>3.6</td>\n",
              "      <td>1.4</td>\n",
              "      <td>0.2</td>\n",
              "      <td>setosa</td>\n",
              "    </tr>\n",
              "    <tr>\n",
              "      <th>...</th>\n",
              "      <td>...</td>\n",
              "      <td>...</td>\n",
              "      <td>...</td>\n",
              "      <td>...</td>\n",
              "      <td>...</td>\n",
              "    </tr>\n",
              "    <tr>\n",
              "      <th>145</th>\n",
              "      <td>6.7</td>\n",
              "      <td>3.0</td>\n",
              "      <td>5.2</td>\n",
              "      <td>2.3</td>\n",
              "      <td>virginica</td>\n",
              "    </tr>\n",
              "    <tr>\n",
              "      <th>146</th>\n",
              "      <td>6.3</td>\n",
              "      <td>2.5</td>\n",
              "      <td>5.0</td>\n",
              "      <td>1.9</td>\n",
              "      <td>virginica</td>\n",
              "    </tr>\n",
              "    <tr>\n",
              "      <th>147</th>\n",
              "      <td>6.5</td>\n",
              "      <td>3.0</td>\n",
              "      <td>5.2</td>\n",
              "      <td>2.0</td>\n",
              "      <td>virginica</td>\n",
              "    </tr>\n",
              "    <tr>\n",
              "      <th>148</th>\n",
              "      <td>6.2</td>\n",
              "      <td>3.4</td>\n",
              "      <td>5.4</td>\n",
              "      <td>2.3</td>\n",
              "      <td>virginica</td>\n",
              "    </tr>\n",
              "    <tr>\n",
              "      <th>149</th>\n",
              "      <td>5.9</td>\n",
              "      <td>3.0</td>\n",
              "      <td>5.1</td>\n",
              "      <td>1.8</td>\n",
              "      <td>virginica</td>\n",
              "    </tr>\n",
              "  </tbody>\n",
              "</table>\n",
              "<p>150 rows × 5 columns</p>\n",
              "</div>"
            ],
            "text/plain": [
              "     sepal_length  sepal_width  petal_length  petal_width    species\n",
              "0             5.1          3.5           1.4          0.2     setosa\n",
              "1             4.9          3.0           1.4          0.2     setosa\n",
              "2             4.7          3.2           1.3          0.2     setosa\n",
              "3             4.6          3.1           1.5          0.2     setosa\n",
              "4             5.0          3.6           1.4          0.2     setosa\n",
              "..            ...          ...           ...          ...        ...\n",
              "145           6.7          3.0           5.2          2.3  virginica\n",
              "146           6.3          2.5           5.0          1.9  virginica\n",
              "147           6.5          3.0           5.2          2.0  virginica\n",
              "148           6.2          3.4           5.4          2.3  virginica\n",
              "149           5.9          3.0           5.1          1.8  virginica\n",
              "\n",
              "[150 rows x 5 columns]"
            ]
          },
          "metadata": {
            "tags": []
          },
          "execution_count": 251
        }
      ]
    },
    {
      "cell_type": "code",
      "metadata": {
        "id": "Z7eY9bYt_IGB",
        "colab": {
          "base_uri": "https://localhost:8080/"
        },
        "outputId": "8327acff-c6f9-450a-d2e6-54eb0074c434"
      },
      "source": [
        "df.isnull().sum()"
      ],
      "execution_count": null,
      "outputs": [
        {
          "output_type": "execute_result",
          "data": {
            "text/plain": [
              "sepal_length    0\n",
              "sepal_width     0\n",
              "petal_length    0\n",
              "petal_width     0\n",
              "species         0\n",
              "dtype: int64"
            ]
          },
          "metadata": {
            "tags": []
          },
          "execution_count": 252
        }
      ]
    },
    {
      "cell_type": "code",
      "metadata": {
        "id": "HAVElnuN_v3G"
      },
      "source": [
        "x=df.drop('species',axis=1).values.astype(float)\n",
        "y=df['species'].values"
      ],
      "execution_count": null,
      "outputs": []
    },
    {
      "cell_type": "code",
      "metadata": {
        "colab": {
          "base_uri": "https://localhost:8080/"
        },
        "id": "7iLl02IgAM1s",
        "outputId": "385a84ab-8e0b-451a-a09a-95b94fde885c"
      },
      "source": [
        "x"
      ],
      "execution_count": null,
      "outputs": [
        {
          "output_type": "execute_result",
          "data": {
            "text/plain": [
              "array([[5.1, 3.5, 1.4, 0.2],\n",
              "       [4.9, 3. , 1.4, 0.2],\n",
              "       [4.7, 3.2, 1.3, 0.2],\n",
              "       [4.6, 3.1, 1.5, 0.2],\n",
              "       [5. , 3.6, 1.4, 0.2],\n",
              "       [5.4, 3.9, 1.7, 0.4],\n",
              "       [4.6, 3.4, 1.4, 0.3],\n",
              "       [5. , 3.4, 1.5, 0.2],\n",
              "       [4.4, 2.9, 1.4, 0.2],\n",
              "       [4.9, 3.1, 1.5, 0.1],\n",
              "       [5.4, 3.7, 1.5, 0.2],\n",
              "       [4.8, 3.4, 1.6, 0.2],\n",
              "       [4.8, 3. , 1.4, 0.1],\n",
              "       [4.3, 3. , 1.1, 0.1],\n",
              "       [5.8, 4. , 1.2, 0.2],\n",
              "       [5.7, 4.4, 1.5, 0.4],\n",
              "       [5.4, 3.9, 1.3, 0.4],\n",
              "       [5.1, 3.5, 1.4, 0.3],\n",
              "       [5.7, 3.8, 1.7, 0.3],\n",
              "       [5.1, 3.8, 1.5, 0.3],\n",
              "       [5.4, 3.4, 1.7, 0.2],\n",
              "       [5.1, 3.7, 1.5, 0.4],\n",
              "       [4.6, 3.6, 1. , 0.2],\n",
              "       [5.1, 3.3, 1.7, 0.5],\n",
              "       [4.8, 3.4, 1.9, 0.2],\n",
              "       [5. , 3. , 1.6, 0.2],\n",
              "       [5. , 3.4, 1.6, 0.4],\n",
              "       [5.2, 3.5, 1.5, 0.2],\n",
              "       [5.2, 3.4, 1.4, 0.2],\n",
              "       [4.7, 3.2, 1.6, 0.2],\n",
              "       [4.8, 3.1, 1.6, 0.2],\n",
              "       [5.4, 3.4, 1.5, 0.4],\n",
              "       [5.2, 4.1, 1.5, 0.1],\n",
              "       [5.5, 4.2, 1.4, 0.2],\n",
              "       [4.9, 3.1, 1.5, 0.2],\n",
              "       [5. , 3.2, 1.2, 0.2],\n",
              "       [5.5, 3.5, 1.3, 0.2],\n",
              "       [4.9, 3.6, 1.4, 0.1],\n",
              "       [4.4, 3. , 1.3, 0.2],\n",
              "       [5.1, 3.4, 1.5, 0.2],\n",
              "       [5. , 3.5, 1.3, 0.3],\n",
              "       [4.5, 2.3, 1.3, 0.3],\n",
              "       [4.4, 3.2, 1.3, 0.2],\n",
              "       [5. , 3.5, 1.6, 0.6],\n",
              "       [5.1, 3.8, 1.9, 0.4],\n",
              "       [4.8, 3. , 1.4, 0.3],\n",
              "       [5.1, 3.8, 1.6, 0.2],\n",
              "       [4.6, 3.2, 1.4, 0.2],\n",
              "       [5.3, 3.7, 1.5, 0.2],\n",
              "       [5. , 3.3, 1.4, 0.2],\n",
              "       [7. , 3.2, 4.7, 1.4],\n",
              "       [6.4, 3.2, 4.5, 1.5],\n",
              "       [6.9, 3.1, 4.9, 1.5],\n",
              "       [5.5, 2.3, 4. , 1.3],\n",
              "       [6.5, 2.8, 4.6, 1.5],\n",
              "       [5.7, 2.8, 4.5, 1.3],\n",
              "       [6.3, 3.3, 4.7, 1.6],\n",
              "       [4.9, 2.4, 3.3, 1. ],\n",
              "       [6.6, 2.9, 4.6, 1.3],\n",
              "       [5.2, 2.7, 3.9, 1.4],\n",
              "       [5. , 2. , 3.5, 1. ],\n",
              "       [5.9, 3. , 4.2, 1.5],\n",
              "       [6. , 2.2, 4. , 1. ],\n",
              "       [6.1, 2.9, 4.7, 1.4],\n",
              "       [5.6, 2.9, 3.6, 1.3],\n",
              "       [6.7, 3.1, 4.4, 1.4],\n",
              "       [5.6, 3. , 4.5, 1.5],\n",
              "       [5.8, 2.7, 4.1, 1. ],\n",
              "       [6.2, 2.2, 4.5, 1.5],\n",
              "       [5.6, 2.5, 3.9, 1.1],\n",
              "       [5.9, 3.2, 4.8, 1.8],\n",
              "       [6.1, 2.8, 4. , 1.3],\n",
              "       [6.3, 2.5, 4.9, 1.5],\n",
              "       [6.1, 2.8, 4.7, 1.2],\n",
              "       [6.4, 2.9, 4.3, 1.3],\n",
              "       [6.6, 3. , 4.4, 1.4],\n",
              "       [6.8, 2.8, 4.8, 1.4],\n",
              "       [6.7, 3. , 5. , 1.7],\n",
              "       [6. , 2.9, 4.5, 1.5],\n",
              "       [5.7, 2.6, 3.5, 1. ],\n",
              "       [5.5, 2.4, 3.8, 1.1],\n",
              "       [5.5, 2.4, 3.7, 1. ],\n",
              "       [5.8, 2.7, 3.9, 1.2],\n",
              "       [6. , 2.7, 5.1, 1.6],\n",
              "       [5.4, 3. , 4.5, 1.5],\n",
              "       [6. , 3.4, 4.5, 1.6],\n",
              "       [6.7, 3.1, 4.7, 1.5],\n",
              "       [6.3, 2.3, 4.4, 1.3],\n",
              "       [5.6, 3. , 4.1, 1.3],\n",
              "       [5.5, 2.5, 4. , 1.3],\n",
              "       [5.5, 2.6, 4.4, 1.2],\n",
              "       [6.1, 3. , 4.6, 1.4],\n",
              "       [5.8, 2.6, 4. , 1.2],\n",
              "       [5. , 2.3, 3.3, 1. ],\n",
              "       [5.6, 2.7, 4.2, 1.3],\n",
              "       [5.7, 3. , 4.2, 1.2],\n",
              "       [5.7, 2.9, 4.2, 1.3],\n",
              "       [6.2, 2.9, 4.3, 1.3],\n",
              "       [5.1, 2.5, 3. , 1.1],\n",
              "       [5.7, 2.8, 4.1, 1.3],\n",
              "       [6.3, 3.3, 6. , 2.5],\n",
              "       [5.8, 2.7, 5.1, 1.9],\n",
              "       [7.1, 3. , 5.9, 2.1],\n",
              "       [6.3, 2.9, 5.6, 1.8],\n",
              "       [6.5, 3. , 5.8, 2.2],\n",
              "       [7.6, 3. , 6.6, 2.1],\n",
              "       [4.9, 2.5, 4.5, 1.7],\n",
              "       [7.3, 2.9, 6.3, 1.8],\n",
              "       [6.7, 2.5, 5.8, 1.8],\n",
              "       [7.2, 3.6, 6.1, 2.5],\n",
              "       [6.5, 3.2, 5.1, 2. ],\n",
              "       [6.4, 2.7, 5.3, 1.9],\n",
              "       [6.8, 3. , 5.5, 2.1],\n",
              "       [5.7, 2.5, 5. , 2. ],\n",
              "       [5.8, 2.8, 5.1, 2.4],\n",
              "       [6.4, 3.2, 5.3, 2.3],\n",
              "       [6.5, 3. , 5.5, 1.8],\n",
              "       [7.7, 3.8, 6.7, 2.2],\n",
              "       [7.7, 2.6, 6.9, 2.3],\n",
              "       [6. , 2.2, 5. , 1.5],\n",
              "       [6.9, 3.2, 5.7, 2.3],\n",
              "       [5.6, 2.8, 4.9, 2. ],\n",
              "       [7.7, 2.8, 6.7, 2. ],\n",
              "       [6.3, 2.7, 4.9, 1.8],\n",
              "       [6.7, 3.3, 5.7, 2.1],\n",
              "       [7.2, 3.2, 6. , 1.8],\n",
              "       [6.2, 2.8, 4.8, 1.8],\n",
              "       [6.1, 3. , 4.9, 1.8],\n",
              "       [6.4, 2.8, 5.6, 2.1],\n",
              "       [7.2, 3. , 5.8, 1.6],\n",
              "       [7.4, 2.8, 6.1, 1.9],\n",
              "       [7.9, 3.8, 6.4, 2. ],\n",
              "       [6.4, 2.8, 5.6, 2.2],\n",
              "       [6.3, 2.8, 5.1, 1.5],\n",
              "       [6.1, 2.6, 5.6, 1.4],\n",
              "       [7.7, 3. , 6.1, 2.3],\n",
              "       [6.3, 3.4, 5.6, 2.4],\n",
              "       [6.4, 3.1, 5.5, 1.8],\n",
              "       [6. , 3. , 4.8, 1.8],\n",
              "       [6.9, 3.1, 5.4, 2.1],\n",
              "       [6.7, 3.1, 5.6, 2.4],\n",
              "       [6.9, 3.1, 5.1, 2.3],\n",
              "       [5.8, 2.7, 5.1, 1.9],\n",
              "       [6.8, 3.2, 5.9, 2.3],\n",
              "       [6.7, 3.3, 5.7, 2.5],\n",
              "       [6.7, 3. , 5.2, 2.3],\n",
              "       [6.3, 2.5, 5. , 1.9],\n",
              "       [6.5, 3. , 5.2, 2. ],\n",
              "       [6.2, 3.4, 5.4, 2.3],\n",
              "       [5.9, 3. , 5.1, 1.8]])"
            ]
          },
          "metadata": {
            "tags": []
          },
          "execution_count": 254
        }
      ]
    },
    {
      "cell_type": "code",
      "metadata": {
        "colab": {
          "base_uri": "https://localhost:8080/"
        },
        "id": "utda401NBgN-",
        "outputId": "13a58379-e3ae-495f-d240-e019d22196b9"
      },
      "source": [
        "y"
      ],
      "execution_count": null,
      "outputs": [
        {
          "output_type": "execute_result",
          "data": {
            "text/plain": [
              "array(['setosa', 'setosa', 'setosa', 'setosa', 'setosa', 'setosa',\n",
              "       'setosa', 'setosa', 'setosa', 'setosa', 'setosa', 'setosa',\n",
              "       'setosa', 'setosa', 'setosa', 'setosa', 'setosa', 'setosa',\n",
              "       'setosa', 'setosa', 'setosa', 'setosa', 'setosa', 'setosa',\n",
              "       'setosa', 'setosa', 'setosa', 'setosa', 'setosa', 'setosa',\n",
              "       'setosa', 'setosa', 'setosa', 'setosa', 'setosa', 'setosa',\n",
              "       'setosa', 'setosa', 'setosa', 'setosa', 'setosa', 'setosa',\n",
              "       'setosa', 'setosa', 'setosa', 'setosa', 'setosa', 'setosa',\n",
              "       'setosa', 'setosa', 'versicolor', 'versicolor', 'versicolor',\n",
              "       'versicolor', 'versicolor', 'versicolor', 'versicolor',\n",
              "       'versicolor', 'versicolor', 'versicolor', 'versicolor',\n",
              "       'versicolor', 'versicolor', 'versicolor', 'versicolor',\n",
              "       'versicolor', 'versicolor', 'versicolor', 'versicolor',\n",
              "       'versicolor', 'versicolor', 'versicolor', 'versicolor',\n",
              "       'versicolor', 'versicolor', 'versicolor', 'versicolor',\n",
              "       'versicolor', 'versicolor', 'versicolor', 'versicolor',\n",
              "       'versicolor', 'versicolor', 'versicolor', 'versicolor',\n",
              "       'versicolor', 'versicolor', 'versicolor', 'versicolor',\n",
              "       'versicolor', 'versicolor', 'versicolor', 'versicolor',\n",
              "       'versicolor', 'versicolor', 'versicolor', 'versicolor',\n",
              "       'versicolor', 'versicolor', 'versicolor', 'virginica', 'virginica',\n",
              "       'virginica', 'virginica', 'virginica', 'virginica', 'virginica',\n",
              "       'virginica', 'virginica', 'virginica', 'virginica', 'virginica',\n",
              "       'virginica', 'virginica', 'virginica', 'virginica', 'virginica',\n",
              "       'virginica', 'virginica', 'virginica', 'virginica', 'virginica',\n",
              "       'virginica', 'virginica', 'virginica', 'virginica', 'virginica',\n",
              "       'virginica', 'virginica', 'virginica', 'virginica', 'virginica',\n",
              "       'virginica', 'virginica', 'virginica', 'virginica', 'virginica',\n",
              "       'virginica', 'virginica', 'virginica', 'virginica', 'virginica',\n",
              "       'virginica', 'virginica', 'virginica', 'virginica', 'virginica',\n",
              "       'virginica', 'virginica', 'virginica'], dtype=object)"
            ]
          },
          "metadata": {
            "tags": []
          },
          "execution_count": 255
        }
      ]
    },
    {
      "cell_type": "code",
      "metadata": {
        "id": "TOxMtORPGY6O"
      },
      "source": [
        "X_train,X_test,y_train,y_test=train_test_split(x,y,test_size=0.3,random_state=42)"
      ],
      "execution_count": null,
      "outputs": []
    },
    {
      "cell_type": "code",
      "metadata": {
        "colab": {
          "base_uri": "https://localhost:8080/"
        },
        "id": "Gnf013OtGe8U",
        "outputId": "7ba6af94-62a6-4be1-ea08-9bd9546e8e01"
      },
      "source": [
        "X_train.shape"
      ],
      "execution_count": null,
      "outputs": [
        {
          "output_type": "execute_result",
          "data": {
            "text/plain": [
              "(105, 4)"
            ]
          },
          "metadata": {
            "tags": []
          },
          "execution_count": 257
        }
      ]
    },
    {
      "cell_type": "code",
      "metadata": {
        "colab": {
          "base_uri": "https://localhost:8080/"
        },
        "id": "9O5juAU4GhRG",
        "outputId": "6bcff3df-0cc6-425d-abca-6d4ac3063b7b"
      },
      "source": [
        "\n",
        "X_test.shape"
      ],
      "execution_count": null,
      "outputs": [
        {
          "output_type": "execute_result",
          "data": {
            "text/plain": [
              "(45, 4)"
            ]
          },
          "metadata": {
            "tags": []
          },
          "execution_count": 258
        }
      ]
    },
    {
      "cell_type": "code",
      "metadata": {
        "colab": {
          "base_uri": "https://localhost:8080/"
        },
        "id": "_Vqot-wxGjiP",
        "outputId": "5e0291a0-1a0d-4cc5-b353-a4738d682052"
      },
      "source": [
        "y_test.shape"
      ],
      "execution_count": null,
      "outputs": [
        {
          "output_type": "execute_result",
          "data": {
            "text/plain": [
              "(45,)"
            ]
          },
          "metadata": {
            "tags": []
          },
          "execution_count": 259
        }
      ]
    },
    {
      "cell_type": "code",
      "metadata": {
        "colab": {
          "base_uri": "https://localhost:8080/"
        },
        "id": "XMS-f6osGmzI",
        "outputId": "c001843e-325c-49c1-8748-44dc5b9d9f74"
      },
      "source": [
        "y_train.shape"
      ],
      "execution_count": null,
      "outputs": [
        {
          "output_type": "execute_result",
          "data": {
            "text/plain": [
              "(105,)"
            ]
          },
          "metadata": {
            "tags": []
          },
          "execution_count": 260
        }
      ]
    },
    {
      "cell_type": "markdown",
      "metadata": {
        "id": "X9v6PY9HId9v"
      },
      "source": [
        "label encoding followed by one hot encoding"
      ]
    },
    {
      "cell_type": "code",
      "metadata": {
        "id": "Dqag_BMzBg7z",
        "colab": {
          "base_uri": "https://localhost:8080/"
        },
        "outputId": "79f04d2d-4e6b-4172-d211-0d96a7afddcf"
      },
      "source": [
        "label_encoder = LabelEncoder()\n",
        "label_encoder.fit(y_train)\n",
        "encoded_y_train = label_encoder.transform(y_train)\n",
        "print(encoded_y_train)\n",
        "y_train=to_categorical(encoded_y_train)\n",
        "\n"
      ],
      "execution_count": null,
      "outputs": [
        {
          "output_type": "stream",
          "text": [
            "[1 2 2 1 2 1 2 1 0 2 1 0 0 0 1 2 0 0 0 1 0 1 2 0 1 2 0 2 2 1 1 2 1 0 1 2 0\n",
            " 0 1 1 0 2 0 0 1 1 2 1 2 2 1 0 0 2 2 0 0 0 1 2 0 2 2 0 1 1 2 1 2 0 2 1 2 1\n",
            " 1 1 0 1 1 0 1 2 2 0 1 2 2 0 2 0 1 2 2 1 2 1 1 2 2 0 1 2 0 1 2]\n"
          ],
          "name": "stdout"
        }
      ]
    },
    {
      "cell_type": "code",
      "metadata": {
        "id": "xk3Ja4UIGtWG"
      },
      "source": [
        "#y test \n",
        "label_encoder.fit(y_test)\n",
        "encoded_y_test = label_encoder.transform(y_test)\n",
        "#one hot encoded)\n",
        "y_test=to_categorical(encoded_y_test)\n"
      ],
      "execution_count": null,
      "outputs": []
    },
    {
      "cell_type": "code",
      "metadata": {
        "id": "UNkEXXDZKMOT"
      },
      "source": [
        "y_train"
      ],
      "execution_count": null,
      "outputs": []
    },
    {
      "cell_type": "code",
      "metadata": {
        "id": "HqhXkXWOKmd5"
      },
      "source": [
        "y_test"
      ],
      "execution_count": null,
      "outputs": []
    },
    {
      "cell_type": "code",
      "metadata": {
        "id": "Noq5OSEaLP_b"
      },
      "source": [
        "scaler=MinMaxScaler()\n",
        "X_train=scaler.fit_transform(X_train)\n",
        "X_test=scaler.transform(X_test)"
      ],
      "execution_count": null,
      "outputs": []
    },
    {
      "cell_type": "markdown",
      "metadata": {
        "id": "uFqLEV3XKtLU"
      },
      "source": [
        "designing the model"
      ]
    },
    {
      "cell_type": "code",
      "metadata": {
        "id": "Qw_wtJKLMqRJ"
      },
      "source": [
        "early_stop=EarlyStopping(monitor='val_loss',patience=20)"
      ],
      "execution_count": null,
      "outputs": []
    },
    {
      "cell_type": "code",
      "metadata": {
        "id": "Cd_vhN6qK3rE"
      },
      "source": [
        "model=Sequential()\n",
        "model.add(Dense(40,activation='relu'))\n",
        "model.add(Dropout(0.5))\n",
        "model.add(Dense(20,activation='relu'))\n",
        "model.add(Dropout(0.5))\n",
        "\n",
        "\n",
        "model.add(Dense(3,activation='softmax'))\n",
        "\n",
        "\n",
        "model.compile(optimizer='adam',loss='categorical_crossentropy')"
      ],
      "execution_count": null,
      "outputs": []
    },
    {
      "cell_type": "code",
      "metadata": {
        "colab": {
          "base_uri": "https://localhost:8080/"
        },
        "id": "Ug-bcAiIM6--",
        "outputId": "ea48205b-ba45-43f8-8e1b-c3832142389f"
      },
      "source": [
        "model.fit(X_train,y_train,epochs=600,validation_data=(X_test,y_test),callbacks=[early_stop])"
      ],
      "execution_count": null,
      "outputs": [
        {
          "output_type": "stream",
          "text": [
            "Epoch 1/600\n",
            "4/4 [==============================] - 1s 50ms/step - loss: 1.1491 - val_loss: 1.0900\n",
            "Epoch 2/600\n",
            "4/4 [==============================] - 0s 7ms/step - loss: 1.1600 - val_loss: 1.0689\n",
            "Epoch 3/600\n",
            "4/4 [==============================] - 0s 7ms/step - loss: 1.1015 - val_loss: 1.0504\n",
            "Epoch 4/600\n",
            "4/4 [==============================] - 0s 7ms/step - loss: 1.0993 - val_loss: 1.0325\n",
            "Epoch 5/600\n",
            "4/4 [==============================] - 0s 8ms/step - loss: 1.0657 - val_loss: 1.0159\n",
            "Epoch 6/600\n",
            "4/4 [==============================] - 0s 9ms/step - loss: 1.0704 - val_loss: 1.0002\n",
            "Epoch 7/600\n",
            "4/4 [==============================] - 0s 9ms/step - loss: 1.0408 - val_loss: 0.9850\n",
            "Epoch 8/600\n",
            "4/4 [==============================] - 0s 8ms/step - loss: 1.0152 - val_loss: 0.9696\n",
            "Epoch 9/600\n",
            "4/4 [==============================] - 0s 8ms/step - loss: 1.0566 - val_loss: 0.9548\n",
            "Epoch 10/600\n",
            "4/4 [==============================] - 0s 9ms/step - loss: 1.0177 - val_loss: 0.9405\n",
            "Epoch 11/600\n",
            "4/4 [==============================] - 0s 9ms/step - loss: 0.9790 - val_loss: 0.9267\n",
            "Epoch 12/600\n",
            "4/4 [==============================] - 0s 8ms/step - loss: 1.0172 - val_loss: 0.9128\n",
            "Epoch 13/600\n",
            "4/4 [==============================] - 0s 8ms/step - loss: 0.9474 - val_loss: 0.8995\n",
            "Epoch 14/600\n",
            "4/4 [==============================] - 0s 8ms/step - loss: 0.9482 - val_loss: 0.8857\n",
            "Epoch 15/600\n",
            "4/4 [==============================] - 0s 8ms/step - loss: 0.9592 - val_loss: 0.8701\n",
            "Epoch 16/600\n",
            "4/4 [==============================] - 0s 7ms/step - loss: 0.9034 - val_loss: 0.8543\n",
            "Epoch 17/600\n",
            "4/4 [==============================] - 0s 9ms/step - loss: 0.9689 - val_loss: 0.8398\n",
            "Epoch 18/600\n",
            "4/4 [==============================] - 0s 8ms/step - loss: 0.9186 - val_loss: 0.8254\n",
            "Epoch 19/600\n",
            "4/4 [==============================] - 0s 15ms/step - loss: 0.9028 - val_loss: 0.8104\n",
            "Epoch 20/600\n",
            "4/4 [==============================] - 0s 8ms/step - loss: 0.8307 - val_loss: 0.7948\n",
            "Epoch 21/600\n",
            "4/4 [==============================] - 0s 8ms/step - loss: 0.8534 - val_loss: 0.7790\n",
            "Epoch 22/600\n",
            "4/4 [==============================] - 0s 11ms/step - loss: 0.8599 - val_loss: 0.7642\n",
            "Epoch 23/600\n",
            "4/4 [==============================] - 0s 8ms/step - loss: 0.8404 - val_loss: 0.7487\n",
            "Epoch 24/600\n",
            "4/4 [==============================] - 0s 8ms/step - loss: 0.8396 - val_loss: 0.7328\n",
            "Epoch 25/600\n",
            "4/4 [==============================] - 0s 10ms/step - loss: 0.8647 - val_loss: 0.7180\n",
            "Epoch 26/600\n",
            "4/4 [==============================] - 0s 9ms/step - loss: 0.8335 - val_loss: 0.7038\n",
            "Epoch 27/600\n",
            "4/4 [==============================] - 0s 8ms/step - loss: 0.7959 - val_loss: 0.6889\n",
            "Epoch 28/600\n",
            "4/4 [==============================] - 0s 8ms/step - loss: 0.8236 - val_loss: 0.6743\n",
            "Epoch 29/600\n",
            "4/4 [==============================] - 0s 9ms/step - loss: 0.7779 - val_loss: 0.6601\n",
            "Epoch 30/600\n",
            "4/4 [==============================] - 0s 10ms/step - loss: 0.7691 - val_loss: 0.6469\n",
            "Epoch 31/600\n",
            "4/4 [==============================] - 0s 9ms/step - loss: 0.8103 - val_loss: 0.6348\n",
            "Epoch 32/600\n",
            "4/4 [==============================] - 0s 10ms/step - loss: 0.7996 - val_loss: 0.6224\n",
            "Epoch 33/600\n",
            "4/4 [==============================] - 0s 9ms/step - loss: 0.7801 - val_loss: 0.6105\n",
            "Epoch 34/600\n",
            "4/4 [==============================] - 0s 10ms/step - loss: 0.7586 - val_loss: 0.5988\n",
            "Epoch 35/600\n",
            "4/4 [==============================] - 0s 10ms/step - loss: 0.7088 - val_loss: 0.5875\n",
            "Epoch 36/600\n",
            "4/4 [==============================] - 0s 10ms/step - loss: 0.7270 - val_loss: 0.5769\n",
            "Epoch 37/600\n",
            "4/4 [==============================] - 0s 8ms/step - loss: 0.6940 - val_loss: 0.5661\n",
            "Epoch 38/600\n",
            "4/4 [==============================] - 0s 8ms/step - loss: 0.7968 - val_loss: 0.5553\n",
            "Epoch 39/600\n",
            "4/4 [==============================] - 0s 8ms/step - loss: 0.7981 - val_loss: 0.5460\n",
            "Epoch 40/600\n",
            "4/4 [==============================] - 0s 8ms/step - loss: 0.7415 - val_loss: 0.5370\n",
            "Epoch 41/600\n",
            "4/4 [==============================] - 0s 8ms/step - loss: 0.7169 - val_loss: 0.5279\n",
            "Epoch 42/600\n",
            "4/4 [==============================] - 0s 9ms/step - loss: 0.7035 - val_loss: 0.5196\n",
            "Epoch 43/600\n",
            "4/4 [==============================] - 0s 8ms/step - loss: 0.6376 - val_loss: 0.5119\n",
            "Epoch 44/600\n",
            "4/4 [==============================] - 0s 9ms/step - loss: 0.7347 - val_loss: 0.5049\n",
            "Epoch 45/600\n",
            "4/4 [==============================] - 0s 8ms/step - loss: 0.6609 - val_loss: 0.4969\n",
            "Epoch 46/600\n",
            "4/4 [==============================] - 0s 8ms/step - loss: 0.6173 - val_loss: 0.4888\n",
            "Epoch 47/600\n",
            "4/4 [==============================] - 0s 8ms/step - loss: 0.6908 - val_loss: 0.4810\n",
            "Epoch 48/600\n",
            "4/4 [==============================] - 0s 8ms/step - loss: 0.6726 - val_loss: 0.4744\n",
            "Epoch 49/600\n",
            "4/4 [==============================] - 0s 10ms/step - loss: 0.6269 - val_loss: 0.4683\n",
            "Epoch 50/600\n",
            "4/4 [==============================] - 0s 9ms/step - loss: 0.5851 - val_loss: 0.4618\n",
            "Epoch 51/600\n",
            "4/4 [==============================] - 0s 9ms/step - loss: 0.6531 - val_loss: 0.4551\n",
            "Epoch 52/600\n",
            "4/4 [==============================] - 0s 15ms/step - loss: 0.6583 - val_loss: 0.4493\n",
            "Epoch 53/600\n",
            "4/4 [==============================] - 0s 10ms/step - loss: 0.6122 - val_loss: 0.4444\n",
            "Epoch 54/600\n",
            "4/4 [==============================] - 0s 12ms/step - loss: 0.5770 - val_loss: 0.4391\n",
            "Epoch 55/600\n",
            "4/4 [==============================] - 0s 9ms/step - loss: 0.5930 - val_loss: 0.4337\n",
            "Epoch 56/600\n",
            "4/4 [==============================] - 0s 10ms/step - loss: 0.6246 - val_loss: 0.4291\n",
            "Epoch 57/600\n",
            "4/4 [==============================] - 0s 8ms/step - loss: 0.6398 - val_loss: 0.4252\n",
            "Epoch 58/600\n",
            "4/4 [==============================] - 0s 8ms/step - loss: 0.6357 - val_loss: 0.4212\n",
            "Epoch 59/600\n",
            "4/4 [==============================] - 0s 8ms/step - loss: 0.6017 - val_loss: 0.4169\n",
            "Epoch 60/600\n",
            "4/4 [==============================] - 0s 9ms/step - loss: 0.6135 - val_loss: 0.4132\n",
            "Epoch 61/600\n",
            "4/4 [==============================] - 0s 10ms/step - loss: 0.6764 - val_loss: 0.4106\n",
            "Epoch 62/600\n",
            "4/4 [==============================] - 0s 8ms/step - loss: 0.6046 - val_loss: 0.4079\n",
            "Epoch 63/600\n",
            "4/4 [==============================] - 0s 8ms/step - loss: 0.5299 - val_loss: 0.4051\n",
            "Epoch 64/600\n",
            "4/4 [==============================] - 0s 8ms/step - loss: 0.5818 - val_loss: 0.4022\n",
            "Epoch 65/600\n",
            "4/4 [==============================] - 0s 8ms/step - loss: 0.5996 - val_loss: 0.3993\n",
            "Epoch 66/600\n",
            "4/4 [==============================] - 0s 8ms/step - loss: 0.6136 - val_loss: 0.3966\n",
            "Epoch 67/600\n",
            "4/4 [==============================] - 0s 8ms/step - loss: 0.5666 - val_loss: 0.3941\n",
            "Epoch 68/600\n",
            "4/4 [==============================] - 0s 9ms/step - loss: 0.5848 - val_loss: 0.3917\n",
            "Epoch 69/600\n",
            "4/4 [==============================] - 0s 11ms/step - loss: 0.5946 - val_loss: 0.3897\n",
            "Epoch 70/600\n",
            "4/4 [==============================] - 0s 9ms/step - loss: 0.5970 - val_loss: 0.3874\n",
            "Epoch 71/600\n",
            "4/4 [==============================] - 0s 10ms/step - loss: 0.5884 - val_loss: 0.3855\n",
            "Epoch 72/600\n",
            "4/4 [==============================] - 0s 9ms/step - loss: 0.5399 - val_loss: 0.3831\n",
            "Epoch 73/600\n",
            "4/4 [==============================] - 0s 15ms/step - loss: 0.5556 - val_loss: 0.3805\n",
            "Epoch 74/600\n",
            "4/4 [==============================] - 0s 9ms/step - loss: 0.5271 - val_loss: 0.3779\n",
            "Epoch 75/600\n",
            "4/4 [==============================] - 0s 8ms/step - loss: 0.5054 - val_loss: 0.3752\n",
            "Epoch 76/600\n",
            "4/4 [==============================] - 0s 10ms/step - loss: 0.5463 - val_loss: 0.3727\n",
            "Epoch 77/600\n",
            "4/4 [==============================] - 0s 8ms/step - loss: 0.5404 - val_loss: 0.3702\n",
            "Epoch 78/600\n",
            "4/4 [==============================] - 0s 8ms/step - loss: 0.5610 - val_loss: 0.3680\n",
            "Epoch 79/600\n",
            "4/4 [==============================] - 0s 8ms/step - loss: 0.5044 - val_loss: 0.3660\n",
            "Epoch 80/600\n",
            "4/4 [==============================] - 0s 11ms/step - loss: 0.5135 - val_loss: 0.3640\n",
            "Epoch 81/600\n",
            "4/4 [==============================] - 0s 8ms/step - loss: 0.5541 - val_loss: 0.3620\n",
            "Epoch 82/600\n",
            "4/4 [==============================] - 0s 9ms/step - loss: 0.5239 - val_loss: 0.3598\n",
            "Epoch 83/600\n",
            "4/4 [==============================] - 0s 11ms/step - loss: 0.5237 - val_loss: 0.3575\n",
            "Epoch 84/600\n",
            "4/4 [==============================] - 0s 9ms/step - loss: 0.4944 - val_loss: 0.3545\n",
            "Epoch 85/600\n",
            "4/4 [==============================] - 0s 9ms/step - loss: 0.5016 - val_loss: 0.3516\n",
            "Epoch 86/600\n",
            "4/4 [==============================] - 0s 8ms/step - loss: 0.5165 - val_loss: 0.3495\n",
            "Epoch 87/600\n",
            "4/4 [==============================] - 0s 8ms/step - loss: 0.5387 - val_loss: 0.3476\n",
            "Epoch 88/600\n",
            "4/4 [==============================] - 0s 10ms/step - loss: 0.4766 - val_loss: 0.3460\n",
            "Epoch 89/600\n",
            "4/4 [==============================] - 0s 9ms/step - loss: 0.4835 - val_loss: 0.3443\n",
            "Epoch 90/600\n",
            "4/4 [==============================] - 0s 9ms/step - loss: 0.5525 - val_loss: 0.3428\n",
            "Epoch 91/600\n",
            "4/4 [==============================] - 0s 9ms/step - loss: 0.5380 - val_loss: 0.3422\n",
            "Epoch 92/600\n",
            "4/4 [==============================] - 0s 9ms/step - loss: 0.5022 - val_loss: 0.3429\n",
            "Epoch 93/600\n",
            "4/4 [==============================] - 0s 10ms/step - loss: 0.4929 - val_loss: 0.3441\n",
            "Epoch 94/600\n",
            "4/4 [==============================] - 0s 10ms/step - loss: 0.5089 - val_loss: 0.3445\n",
            "Epoch 95/600\n",
            "4/4 [==============================] - 0s 11ms/step - loss: 0.4482 - val_loss: 0.3454\n",
            "Epoch 96/600\n",
            "4/4 [==============================] - 0s 10ms/step - loss: 0.5526 - val_loss: 0.3445\n",
            "Epoch 97/600\n",
            "4/4 [==============================] - 0s 8ms/step - loss: 0.4782 - val_loss: 0.3429\n",
            "Epoch 98/600\n",
            "4/4 [==============================] - 0s 8ms/step - loss: 0.4754 - val_loss: 0.3415\n",
            "Epoch 99/600\n",
            "4/4 [==============================] - 0s 8ms/step - loss: 0.4746 - val_loss: 0.3389\n",
            "Epoch 100/600\n",
            "4/4 [==============================] - 0s 9ms/step - loss: 0.4967 - val_loss: 0.3354\n",
            "Epoch 101/600\n",
            "4/4 [==============================] - 0s 11ms/step - loss: 0.5040 - val_loss: 0.3327\n",
            "Epoch 102/600\n",
            "4/4 [==============================] - 0s 10ms/step - loss: 0.4450 - val_loss: 0.3298\n",
            "Epoch 103/600\n",
            "4/4 [==============================] - 0s 9ms/step - loss: 0.4972 - val_loss: 0.3264\n",
            "Epoch 104/600\n",
            "4/4 [==============================] - 0s 14ms/step - loss: 0.5434 - val_loss: 0.3242\n",
            "Epoch 105/600\n",
            "4/4 [==============================] - 0s 10ms/step - loss: 0.4254 - val_loss: 0.3219\n",
            "Epoch 106/600\n",
            "4/4 [==============================] - 0s 8ms/step - loss: 0.4880 - val_loss: 0.3208\n",
            "Epoch 107/600\n",
            "4/4 [==============================] - 0s 9ms/step - loss: 0.4867 - val_loss: 0.3206\n",
            "Epoch 108/600\n",
            "4/4 [==============================] - 0s 9ms/step - loss: 0.4752 - val_loss: 0.3200\n",
            "Epoch 109/600\n",
            "4/4 [==============================] - 0s 8ms/step - loss: 0.4300 - val_loss: 0.3184\n",
            "Epoch 110/600\n",
            "4/4 [==============================] - 0s 9ms/step - loss: 0.5129 - val_loss: 0.3156\n",
            "Epoch 111/600\n",
            "4/4 [==============================] - 0s 11ms/step - loss: 0.4624 - val_loss: 0.3125\n",
            "Epoch 112/600\n",
            "4/4 [==============================] - 0s 8ms/step - loss: 0.5089 - val_loss: 0.3097\n",
            "Epoch 113/600\n",
            "4/4 [==============================] - 0s 9ms/step - loss: 0.4348 - val_loss: 0.3073\n",
            "Epoch 114/600\n",
            "4/4 [==============================] - 0s 9ms/step - loss: 0.4332 - val_loss: 0.3044\n",
            "Epoch 115/600\n",
            "4/4 [==============================] - 0s 8ms/step - loss: 0.4645 - val_loss: 0.3013\n",
            "Epoch 116/600\n",
            "4/4 [==============================] - 0s 9ms/step - loss: 0.4563 - val_loss: 0.2994\n",
            "Epoch 117/600\n",
            "4/4 [==============================] - 0s 10ms/step - loss: 0.4779 - val_loss: 0.2971\n",
            "Epoch 118/600\n",
            "4/4 [==============================] - 0s 11ms/step - loss: 0.4131 - val_loss: 0.2953\n",
            "Epoch 119/600\n",
            "4/4 [==============================] - 0s 11ms/step - loss: 0.4809 - val_loss: 0.2938\n",
            "Epoch 120/600\n",
            "4/4 [==============================] - 0s 9ms/step - loss: 0.4450 - val_loss: 0.2924\n",
            "Epoch 121/600\n",
            "4/4 [==============================] - 0s 12ms/step - loss: 0.5059 - val_loss: 0.2903\n",
            "Epoch 122/600\n",
            "4/4 [==============================] - 0s 10ms/step - loss: 0.4657 - val_loss: 0.2885\n",
            "Epoch 123/600\n",
            "4/4 [==============================] - 0s 10ms/step - loss: 0.4489 - val_loss: 0.2871\n",
            "Epoch 124/600\n",
            "4/4 [==============================] - 0s 10ms/step - loss: 0.4824 - val_loss: 0.2866\n",
            "Epoch 125/600\n",
            "4/4 [==============================] - 0s 8ms/step - loss: 0.4172 - val_loss: 0.2850\n",
            "Epoch 126/600\n",
            "4/4 [==============================] - 0s 9ms/step - loss: 0.4378 - val_loss: 0.2835\n",
            "Epoch 127/600\n",
            "4/4 [==============================] - 0s 9ms/step - loss: 0.4751 - val_loss: 0.2821\n",
            "Epoch 128/600\n",
            "4/4 [==============================] - 0s 10ms/step - loss: 0.4598 - val_loss: 0.2818\n",
            "Epoch 129/600\n",
            "4/4 [==============================] - 0s 12ms/step - loss: 0.4286 - val_loss: 0.2808\n",
            "Epoch 130/600\n",
            "4/4 [==============================] - 0s 10ms/step - loss: 0.4280 - val_loss: 0.2791\n",
            "Epoch 131/600\n",
            "4/4 [==============================] - 0s 10ms/step - loss: 0.4415 - val_loss: 0.2774\n",
            "Epoch 132/600\n",
            "4/4 [==============================] - 0s 10ms/step - loss: 0.4007 - val_loss: 0.2746\n",
            "Epoch 133/600\n",
            "4/4 [==============================] - 0s 16ms/step - loss: 0.4364 - val_loss: 0.2725\n",
            "Epoch 134/600\n",
            "4/4 [==============================] - 0s 8ms/step - loss: 0.4452 - val_loss: 0.2705\n",
            "Epoch 135/600\n",
            "4/4 [==============================] - 0s 8ms/step - loss: 0.4644 - val_loss: 0.2683\n",
            "Epoch 136/600\n",
            "4/4 [==============================] - 0s 9ms/step - loss: 0.4187 - val_loss: 0.2663\n",
            "Epoch 137/600\n",
            "4/4 [==============================] - 0s 11ms/step - loss: 0.4143 - val_loss: 0.2651\n",
            "Epoch 138/600\n",
            "4/4 [==============================] - 0s 12ms/step - loss: 0.4212 - val_loss: 0.2640\n",
            "Epoch 139/600\n",
            "4/4 [==============================] - 0s 10ms/step - loss: 0.4383 - val_loss: 0.2621\n",
            "Epoch 140/600\n",
            "4/4 [==============================] - 0s 8ms/step - loss: 0.4119 - val_loss: 0.2614\n",
            "Epoch 141/600\n",
            "4/4 [==============================] - 0s 9ms/step - loss: 0.4191 - val_loss: 0.2596\n",
            "Epoch 142/600\n",
            "4/4 [==============================] - 0s 9ms/step - loss: 0.3956 - val_loss: 0.2573\n",
            "Epoch 143/600\n",
            "4/4 [==============================] - 0s 10ms/step - loss: 0.4063 - val_loss: 0.2570\n",
            "Epoch 144/600\n",
            "4/4 [==============================] - 0s 9ms/step - loss: 0.4185 - val_loss: 0.2591\n",
            "Epoch 145/600\n",
            "4/4 [==============================] - 0s 8ms/step - loss: 0.4270 - val_loss: 0.2577\n",
            "Epoch 146/600\n",
            "4/4 [==============================] - 0s 11ms/step - loss: 0.3899 - val_loss: 0.2531\n",
            "Epoch 147/600\n",
            "4/4 [==============================] - 0s 13ms/step - loss: 0.4175 - val_loss: 0.2476\n",
            "Epoch 148/600\n",
            "4/4 [==============================] - 0s 9ms/step - loss: 0.4179 - val_loss: 0.2444\n",
            "Epoch 149/600\n",
            "4/4 [==============================] - 0s 9ms/step - loss: 0.4085 - val_loss: 0.2433\n",
            "Epoch 150/600\n",
            "4/4 [==============================] - 0s 9ms/step - loss: 0.4392 - val_loss: 0.2419\n",
            "Epoch 151/600\n",
            "4/4 [==============================] - 0s 9ms/step - loss: 0.4024 - val_loss: 0.2408\n",
            "Epoch 152/600\n",
            "4/4 [==============================] - 0s 9ms/step - loss: 0.4212 - val_loss: 0.2402\n",
            "Epoch 153/600\n",
            "4/4 [==============================] - 0s 11ms/step - loss: 0.3849 - val_loss: 0.2396\n",
            "Epoch 154/600\n",
            "4/4 [==============================] - 0s 10ms/step - loss: 0.3912 - val_loss: 0.2386\n",
            "Epoch 155/600\n",
            "4/4 [==============================] - 0s 9ms/step - loss: 0.3781 - val_loss: 0.2376\n",
            "Epoch 156/600\n",
            "4/4 [==============================] - 0s 11ms/step - loss: 0.3823 - val_loss: 0.2357\n",
            "Epoch 157/600\n",
            "4/4 [==============================] - 0s 10ms/step - loss: 0.4522 - val_loss: 0.2334\n",
            "Epoch 158/600\n",
            "4/4 [==============================] - 0s 9ms/step - loss: 0.4103 - val_loss: 0.2318\n",
            "Epoch 159/600\n",
            "4/4 [==============================] - 0s 9ms/step - loss: 0.4223 - val_loss: 0.2296\n",
            "Epoch 160/600\n",
            "4/4 [==============================] - 0s 10ms/step - loss: 0.3523 - val_loss: 0.2289\n",
            "Epoch 161/600\n",
            "4/4 [==============================] - 0s 9ms/step - loss: 0.3701 - val_loss: 0.2280\n",
            "Epoch 162/600\n",
            "4/4 [==============================] - 0s 9ms/step - loss: 0.3905 - val_loss: 0.2278\n",
            "Epoch 163/600\n",
            "4/4 [==============================] - 0s 8ms/step - loss: 0.3768 - val_loss: 0.2275\n",
            "Epoch 164/600\n",
            "4/4 [==============================] - 0s 9ms/step - loss: 0.4075 - val_loss: 0.2269\n",
            "Epoch 165/600\n",
            "4/4 [==============================] - 0s 10ms/step - loss: 0.3491 - val_loss: 0.2275\n",
            "Epoch 166/600\n",
            "4/4 [==============================] - 0s 9ms/step - loss: 0.3742 - val_loss: 0.2276\n",
            "Epoch 167/600\n",
            "4/4 [==============================] - 0s 9ms/step - loss: 0.3500 - val_loss: 0.2263\n",
            "Epoch 168/600\n",
            "4/4 [==============================] - 0s 10ms/step - loss: 0.4044 - val_loss: 0.2225\n",
            "Epoch 169/600\n",
            "4/4 [==============================] - 0s 9ms/step - loss: 0.4362 - val_loss: 0.2187\n",
            "Epoch 170/600\n",
            "4/4 [==============================] - 0s 9ms/step - loss: 0.3457 - val_loss: 0.2145\n",
            "Epoch 171/600\n",
            "4/4 [==============================] - 0s 9ms/step - loss: 0.3304 - val_loss: 0.2115\n",
            "Epoch 172/600\n",
            "4/4 [==============================] - 0s 10ms/step - loss: 0.3747 - val_loss: 0.2075\n",
            "Epoch 173/600\n",
            "4/4 [==============================] - 0s 10ms/step - loss: 0.3728 - val_loss: 0.2046\n",
            "Epoch 174/600\n",
            "4/4 [==============================] - 0s 8ms/step - loss: 0.3979 - val_loss: 0.2032\n",
            "Epoch 175/600\n",
            "4/4 [==============================] - 0s 9ms/step - loss: 0.3624 - val_loss: 0.2033\n",
            "Epoch 176/600\n",
            "4/4 [==============================] - 0s 8ms/step - loss: 0.4056 - val_loss: 0.2040\n",
            "Epoch 177/600\n",
            "4/4 [==============================] - 0s 10ms/step - loss: 0.3973 - val_loss: 0.2051\n",
            "Epoch 178/600\n",
            "4/4 [==============================] - 0s 9ms/step - loss: 0.3616 - val_loss: 0.2047\n",
            "Epoch 179/600\n",
            "4/4 [==============================] - 0s 9ms/step - loss: 0.2833 - val_loss: 0.2037\n",
            "Epoch 180/600\n",
            "4/4 [==============================] - 0s 10ms/step - loss: 0.3238 - val_loss: 0.2022\n",
            "Epoch 181/600\n",
            "4/4 [==============================] - 0s 10ms/step - loss: 0.3354 - val_loss: 0.1991\n",
            "Epoch 182/600\n",
            "4/4 [==============================] - 0s 8ms/step - loss: 0.3711 - val_loss: 0.1961\n",
            "Epoch 183/600\n",
            "4/4 [==============================] - 0s 9ms/step - loss: 0.3587 - val_loss: 0.1931\n",
            "Epoch 184/600\n",
            "4/4 [==============================] - 0s 9ms/step - loss: 0.3300 - val_loss: 0.1908\n",
            "Epoch 185/600\n",
            "4/4 [==============================] - 0s 9ms/step - loss: 0.3558 - val_loss: 0.1899\n",
            "Epoch 186/600\n",
            "4/4 [==============================] - 0s 10ms/step - loss: 0.3254 - val_loss: 0.1876\n",
            "Epoch 187/600\n",
            "4/4 [==============================] - 0s 9ms/step - loss: 0.3537 - val_loss: 0.1857\n",
            "Epoch 188/600\n",
            "4/4 [==============================] - 0s 9ms/step - loss: 0.3327 - val_loss: 0.1854\n",
            "Epoch 189/600\n",
            "4/4 [==============================] - 0s 11ms/step - loss: 0.3192 - val_loss: 0.1859\n",
            "Epoch 190/600\n",
            "4/4 [==============================] - 0s 10ms/step - loss: 0.3462 - val_loss: 0.1831\n",
            "Epoch 191/600\n",
            "4/4 [==============================] - 0s 8ms/step - loss: 0.3518 - val_loss: 0.1808\n",
            "Epoch 192/600\n",
            "4/4 [==============================] - 0s 10ms/step - loss: 0.3583 - val_loss: 0.1787\n",
            "Epoch 193/600\n",
            "4/4 [==============================] - 0s 17ms/step - loss: 0.3881 - val_loss: 0.1747\n",
            "Epoch 194/600\n",
            "4/4 [==============================] - 0s 11ms/step - loss: 0.3112 - val_loss: 0.1724\n",
            "Epoch 195/600\n",
            "4/4 [==============================] - 0s 9ms/step - loss: 0.3723 - val_loss: 0.1703\n",
            "Epoch 196/600\n",
            "4/4 [==============================] - 0s 11ms/step - loss: 0.3576 - val_loss: 0.1694\n",
            "Epoch 197/600\n",
            "4/4 [==============================] - 0s 10ms/step - loss: 0.3273 - val_loss: 0.1683\n",
            "Epoch 198/600\n",
            "4/4 [==============================] - 0s 11ms/step - loss: 0.3447 - val_loss: 0.1674\n",
            "Epoch 199/600\n",
            "4/4 [==============================] - 0s 9ms/step - loss: 0.3207 - val_loss: 0.1673\n",
            "Epoch 200/600\n",
            "4/4 [==============================] - 0s 9ms/step - loss: 0.3354 - val_loss: 0.1671\n",
            "Epoch 201/600\n",
            "4/4 [==============================] - 0s 9ms/step - loss: 0.3263 - val_loss: 0.1669\n",
            "Epoch 202/600\n",
            "4/4 [==============================] - 0s 11ms/step - loss: 0.3472 - val_loss: 0.1672\n",
            "Epoch 203/600\n",
            "4/4 [==============================] - 0s 9ms/step - loss: 0.3056 - val_loss: 0.1662\n",
            "Epoch 204/600\n",
            "4/4 [==============================] - 0s 11ms/step - loss: 0.3303 - val_loss: 0.1636\n",
            "Epoch 205/600\n",
            "4/4 [==============================] - 0s 10ms/step - loss: 0.2978 - val_loss: 0.1603\n",
            "Epoch 206/600\n",
            "4/4 [==============================] - 0s 9ms/step - loss: 0.3197 - val_loss: 0.1575\n",
            "Epoch 207/600\n",
            "4/4 [==============================] - 0s 9ms/step - loss: 0.3261 - val_loss: 0.1568\n",
            "Epoch 208/600\n",
            "4/4 [==============================] - 0s 9ms/step - loss: 0.3071 - val_loss: 0.1564\n",
            "Epoch 209/600\n",
            "4/4 [==============================] - 0s 10ms/step - loss: 0.3317 - val_loss: 0.1575\n",
            "Epoch 210/600\n",
            "4/4 [==============================] - 0s 9ms/step - loss: 0.2558 - val_loss: 0.1587\n",
            "Epoch 211/600\n",
            "4/4 [==============================] - 0s 9ms/step - loss: 0.3586 - val_loss: 0.1585\n",
            "Epoch 212/600\n",
            "4/4 [==============================] - 0s 10ms/step - loss: 0.3585 - val_loss: 0.1576\n",
            "Epoch 213/600\n",
            "4/4 [==============================] - 0s 10ms/step - loss: 0.2758 - val_loss: 0.1536\n",
            "Epoch 214/600\n",
            "4/4 [==============================] - 0s 9ms/step - loss: 0.2777 - val_loss: 0.1506\n",
            "Epoch 215/600\n",
            "4/4 [==============================] - 0s 12ms/step - loss: 0.3256 - val_loss: 0.1484\n",
            "Epoch 216/600\n",
            "4/4 [==============================] - 0s 9ms/step - loss: 0.2870 - val_loss: 0.1478\n",
            "Epoch 217/600\n",
            "4/4 [==============================] - 0s 11ms/step - loss: 0.3073 - val_loss: 0.1480\n",
            "Epoch 218/600\n",
            "4/4 [==============================] - 0s 11ms/step - loss: 0.3115 - val_loss: 0.1500\n",
            "Epoch 219/600\n",
            "4/4 [==============================] - 0s 10ms/step - loss: 0.3538 - val_loss: 0.1515\n",
            "Epoch 220/600\n",
            "4/4 [==============================] - 0s 12ms/step - loss: 0.3495 - val_loss: 0.1546\n",
            "Epoch 221/600\n",
            "4/4 [==============================] - 0s 15ms/step - loss: 0.2822 - val_loss: 0.1623\n",
            "Epoch 222/600\n",
            "4/4 [==============================] - 0s 9ms/step - loss: 0.3091 - val_loss: 0.1597\n",
            "Epoch 223/600\n",
            "4/4 [==============================] - 0s 10ms/step - loss: 0.3023 - val_loss: 0.1546\n",
            "Epoch 224/600\n",
            "4/4 [==============================] - 0s 10ms/step - loss: 0.2875 - val_loss: 0.1491\n",
            "Epoch 225/600\n",
            "4/4 [==============================] - 0s 9ms/step - loss: 0.3181 - val_loss: 0.1443\n",
            "Epoch 226/600\n",
            "4/4 [==============================] - 0s 9ms/step - loss: 0.3015 - val_loss: 0.1416\n",
            "Epoch 227/600\n",
            "4/4 [==============================] - 0s 9ms/step - loss: 0.3183 - val_loss: 0.1399\n",
            "Epoch 228/600\n",
            "4/4 [==============================] - 0s 9ms/step - loss: 0.2671 - val_loss: 0.1376\n",
            "Epoch 229/600\n",
            "4/4 [==============================] - 0s 11ms/step - loss: 0.3098 - val_loss: 0.1358\n",
            "Epoch 230/600\n",
            "4/4 [==============================] - 0s 10ms/step - loss: 0.2950 - val_loss: 0.1340\n",
            "Epoch 231/600\n",
            "4/4 [==============================] - 0s 10ms/step - loss: 0.3110 - val_loss: 0.1329\n",
            "Epoch 232/600\n",
            "4/4 [==============================] - 0s 10ms/step - loss: 0.2580 - val_loss: 0.1318\n",
            "Epoch 233/600\n",
            "4/4 [==============================] - 0s 10ms/step - loss: 0.2674 - val_loss: 0.1317\n",
            "Epoch 234/600\n",
            "4/4 [==============================] - 0s 10ms/step - loss: 0.3183 - val_loss: 0.1319\n",
            "Epoch 235/600\n",
            "4/4 [==============================] - 0s 10ms/step - loss: 0.3024 - val_loss: 0.1319\n",
            "Epoch 236/600\n",
            "4/4 [==============================] - 0s 9ms/step - loss: 0.2238 - val_loss: 0.1319\n",
            "Epoch 237/600\n",
            "4/4 [==============================] - 0s 9ms/step - loss: 0.2737 - val_loss: 0.1304\n",
            "Epoch 238/600\n",
            "4/4 [==============================] - 0s 9ms/step - loss: 0.2708 - val_loss: 0.1280\n",
            "Epoch 239/600\n",
            "4/4 [==============================] - 0s 10ms/step - loss: 0.2725 - val_loss: 0.1258\n",
            "Epoch 240/600\n",
            "4/4 [==============================] - 0s 10ms/step - loss: 0.2828 - val_loss: 0.1234\n",
            "Epoch 241/600\n",
            "4/4 [==============================] - 0s 9ms/step - loss: 0.2537 - val_loss: 0.1226\n",
            "Epoch 242/600\n",
            "4/4 [==============================] - 0s 11ms/step - loss: 0.2899 - val_loss: 0.1231\n",
            "Epoch 243/600\n",
            "4/4 [==============================] - 0s 8ms/step - loss: 0.2847 - val_loss: 0.1236\n",
            "Epoch 244/600\n",
            "4/4 [==============================] - 0s 11ms/step - loss: 0.2515 - val_loss: 0.1239\n",
            "Epoch 245/600\n",
            "4/4 [==============================] - 0s 10ms/step - loss: 0.3065 - val_loss: 0.1234\n",
            "Epoch 246/600\n",
            "4/4 [==============================] - 0s 9ms/step - loss: 0.2860 - val_loss: 0.1244\n",
            "Epoch 247/600\n",
            "4/4 [==============================] - 0s 11ms/step - loss: 0.2514 - val_loss: 0.1241\n",
            "Epoch 248/600\n",
            "4/4 [==============================] - 0s 9ms/step - loss: 0.2594 - val_loss: 0.1228\n",
            "Epoch 249/600\n",
            "4/4 [==============================] - 0s 9ms/step - loss: 0.3001 - val_loss: 0.1192\n",
            "Epoch 250/600\n",
            "4/4 [==============================] - 0s 10ms/step - loss: 0.3167 - val_loss: 0.1189\n",
            "Epoch 251/600\n",
            "4/4 [==============================] - 0s 10ms/step - loss: 0.2933 - val_loss: 0.1181\n",
            "Epoch 252/600\n",
            "4/4 [==============================] - 0s 10ms/step - loss: 0.2572 - val_loss: 0.1164\n",
            "Epoch 253/600\n",
            "4/4 [==============================] - 0s 12ms/step - loss: 0.2875 - val_loss: 0.1162\n",
            "Epoch 254/600\n",
            "4/4 [==============================] - 0s 10ms/step - loss: 0.2459 - val_loss: 0.1152\n",
            "Epoch 255/600\n",
            "4/4 [==============================] - 0s 11ms/step - loss: 0.2779 - val_loss: 0.1163\n",
            "Epoch 256/600\n",
            "4/4 [==============================] - 0s 11ms/step - loss: 0.2786 - val_loss: 0.1167\n",
            "Epoch 257/600\n",
            "4/4 [==============================] - 0s 10ms/step - loss: 0.2798 - val_loss: 0.1159\n",
            "Epoch 258/600\n",
            "4/4 [==============================] - 0s 9ms/step - loss: 0.2528 - val_loss: 0.1160\n",
            "Epoch 259/600\n",
            "4/4 [==============================] - 0s 10ms/step - loss: 0.2776 - val_loss: 0.1145\n",
            "Epoch 260/600\n",
            "4/4 [==============================] - 0s 9ms/step - loss: 0.2520 - val_loss: 0.1134\n",
            "Epoch 261/600\n",
            "4/4 [==============================] - 0s 10ms/step - loss: 0.2353 - val_loss: 0.1121\n",
            "Epoch 262/600\n",
            "4/4 [==============================] - 0s 10ms/step - loss: 0.2298 - val_loss: 0.1118\n",
            "Epoch 263/600\n",
            "4/4 [==============================] - 0s 11ms/step - loss: 0.2430 - val_loss: 0.1111\n",
            "Epoch 264/600\n",
            "4/4 [==============================] - 0s 10ms/step - loss: 0.2932 - val_loss: 0.1089\n",
            "Epoch 265/600\n",
            "4/4 [==============================] - 0s 9ms/step - loss: 0.2361 - val_loss: 0.1068\n",
            "Epoch 266/600\n",
            "4/4 [==============================] - 0s 9ms/step - loss: 0.2300 - val_loss: 0.1056\n",
            "Epoch 267/600\n",
            "4/4 [==============================] - 0s 9ms/step - loss: 0.2573 - val_loss: 0.1049\n",
            "Epoch 268/600\n",
            "4/4 [==============================] - 0s 9ms/step - loss: 0.2339 - val_loss: 0.1048\n",
            "Epoch 269/600\n",
            "4/4 [==============================] - 0s 9ms/step - loss: 0.2452 - val_loss: 0.1048\n",
            "Epoch 270/600\n",
            "4/4 [==============================] - 0s 10ms/step - loss: 0.2465 - val_loss: 0.1037\n",
            "Epoch 271/600\n",
            "4/4 [==============================] - 0s 9ms/step - loss: 0.1997 - val_loss: 0.1026\n",
            "Epoch 272/600\n",
            "4/4 [==============================] - 0s 12ms/step - loss: 0.2575 - val_loss: 0.1017\n",
            "Epoch 273/600\n",
            "4/4 [==============================] - 0s 9ms/step - loss: 0.2485 - val_loss: 0.1014\n",
            "Epoch 274/600\n",
            "4/4 [==============================] - 0s 10ms/step - loss: 0.2832 - val_loss: 0.1011\n",
            "Epoch 275/600\n",
            "4/4 [==============================] - 0s 9ms/step - loss: 0.3236 - val_loss: 0.1003\n",
            "Epoch 276/600\n",
            "4/4 [==============================] - 0s 10ms/step - loss: 0.2657 - val_loss: 0.1001\n",
            "Epoch 277/600\n",
            "4/4 [==============================] - 0s 9ms/step - loss: 0.2192 - val_loss: 0.1030\n",
            "Epoch 278/600\n",
            "4/4 [==============================] - 0s 9ms/step - loss: 0.1994 - val_loss: 0.1059\n",
            "Epoch 279/600\n",
            "4/4 [==============================] - 0s 11ms/step - loss: 0.2651 - val_loss: 0.1044\n",
            "Epoch 280/600\n",
            "4/4 [==============================] - 0s 10ms/step - loss: 0.2389 - val_loss: 0.1008\n",
            "Epoch 281/600\n",
            "4/4 [==============================] - 0s 9ms/step - loss: 0.2739 - val_loss: 0.0984\n",
            "Epoch 282/600\n",
            "4/4 [==============================] - 0s 10ms/step - loss: 0.2442 - val_loss: 0.0973\n",
            "Epoch 283/600\n",
            "4/4 [==============================] - 0s 10ms/step - loss: 0.2387 - val_loss: 0.0973\n",
            "Epoch 284/600\n",
            "4/4 [==============================] - 0s 9ms/step - loss: 0.2966 - val_loss: 0.0966\n",
            "Epoch 285/600\n",
            "4/4 [==============================] - 0s 8ms/step - loss: 0.2289 - val_loss: 0.0961\n",
            "Epoch 286/600\n",
            "4/4 [==============================] - 0s 10ms/step - loss: 0.2867 - val_loss: 0.0964\n",
            "Epoch 287/600\n",
            "4/4 [==============================] - 0s 12ms/step - loss: 0.3065 - val_loss: 0.0964\n",
            "Epoch 288/600\n",
            "4/4 [==============================] - 0s 9ms/step - loss: 0.1989 - val_loss: 0.0956\n",
            "Epoch 289/600\n",
            "4/4 [==============================] - 0s 10ms/step - loss: 0.2877 - val_loss: 0.0949\n",
            "Epoch 290/600\n",
            "4/4 [==============================] - 0s 10ms/step - loss: 0.2697 - val_loss: 0.0943\n",
            "Epoch 291/600\n",
            "4/4 [==============================] - 0s 9ms/step - loss: 0.2448 - val_loss: 0.0951\n",
            "Epoch 292/600\n",
            "4/4 [==============================] - 0s 9ms/step - loss: 0.2397 - val_loss: 0.0977\n",
            "Epoch 293/600\n",
            "4/4 [==============================] - 0s 12ms/step - loss: 0.2125 - val_loss: 0.0981\n",
            "Epoch 294/600\n",
            "4/4 [==============================] - 0s 9ms/step - loss: 0.2717 - val_loss: 0.0964\n",
            "Epoch 295/600\n",
            "4/4 [==============================] - 0s 9ms/step - loss: 0.2518 - val_loss: 0.0944\n",
            "Epoch 296/600\n",
            "4/4 [==============================] - 0s 9ms/step - loss: 0.2553 - val_loss: 0.0924\n",
            "Epoch 297/600\n",
            "4/4 [==============================] - 0s 11ms/step - loss: 0.2405 - val_loss: 0.0916\n",
            "Epoch 298/600\n",
            "4/4 [==============================] - 0s 10ms/step - loss: 0.2431 - val_loss: 0.0925\n",
            "Epoch 299/600\n",
            "4/4 [==============================] - 0s 10ms/step - loss: 0.1885 - val_loss: 0.0950\n",
            "Epoch 300/600\n",
            "4/4 [==============================] - 0s 17ms/step - loss: 0.2491 - val_loss: 0.0983\n",
            "Epoch 301/600\n",
            "4/4 [==============================] - 0s 10ms/step - loss: 0.2107 - val_loss: 0.0981\n",
            "Epoch 302/600\n",
            "4/4 [==============================] - 0s 10ms/step - loss: 0.2417 - val_loss: 0.0955\n",
            "Epoch 303/600\n",
            "4/4 [==============================] - 0s 9ms/step - loss: 0.2472 - val_loss: 0.0923\n",
            "Epoch 304/600\n",
            "4/4 [==============================] - 0s 10ms/step - loss: 0.2515 - val_loss: 0.0897\n",
            "Epoch 305/600\n",
            "4/4 [==============================] - 0s 10ms/step - loss: 0.2189 - val_loss: 0.0880\n",
            "Epoch 306/600\n",
            "4/4 [==============================] - 0s 11ms/step - loss: 0.2582 - val_loss: 0.0873\n",
            "Epoch 307/600\n",
            "4/4 [==============================] - 0s 10ms/step - loss: 0.2070 - val_loss: 0.0868\n",
            "Epoch 308/600\n",
            "4/4 [==============================] - 0s 9ms/step - loss: 0.2234 - val_loss: 0.0863\n",
            "Epoch 309/600\n",
            "4/4 [==============================] - 0s 10ms/step - loss: 0.2578 - val_loss: 0.0859\n",
            "Epoch 310/600\n",
            "4/4 [==============================] - 0s 11ms/step - loss: 0.2301 - val_loss: 0.0850\n",
            "Epoch 311/600\n",
            "4/4 [==============================] - 0s 9ms/step - loss: 0.2596 - val_loss: 0.0847\n",
            "Epoch 312/600\n",
            "4/4 [==============================] - 0s 9ms/step - loss: 0.2320 - val_loss: 0.0844\n",
            "Epoch 313/600\n",
            "4/4 [==============================] - 0s 10ms/step - loss: 0.2301 - val_loss: 0.0838\n",
            "Epoch 314/600\n",
            "4/4 [==============================] - 0s 11ms/step - loss: 0.2152 - val_loss: 0.0835\n",
            "Epoch 315/600\n",
            "4/4 [==============================] - 0s 10ms/step - loss: 0.2677 - val_loss: 0.0834\n",
            "Epoch 316/600\n",
            "4/4 [==============================] - 0s 11ms/step - loss: 0.2064 - val_loss: 0.0836\n",
            "Epoch 317/600\n",
            "4/4 [==============================] - 0s 10ms/step - loss: 0.2107 - val_loss: 0.0830\n",
            "Epoch 318/600\n",
            "4/4 [==============================] - 0s 11ms/step - loss: 0.2476 - val_loss: 0.0832\n",
            "Epoch 319/600\n",
            "4/4 [==============================] - 0s 10ms/step - loss: 0.2109 - val_loss: 0.0838\n",
            "Epoch 320/600\n",
            "4/4 [==============================] - 0s 10ms/step - loss: 0.2259 - val_loss: 0.0844\n",
            "Epoch 321/600\n",
            "4/4 [==============================] - 0s 10ms/step - loss: 0.2122 - val_loss: 0.0836\n",
            "Epoch 322/600\n",
            "4/4 [==============================] - 0s 10ms/step - loss: 0.1990 - val_loss: 0.0822\n",
            "Epoch 323/600\n",
            "4/4 [==============================] - 0s 11ms/step - loss: 0.2387 - val_loss: 0.0812\n",
            "Epoch 324/600\n",
            "4/4 [==============================] - 0s 10ms/step - loss: 0.2502 - val_loss: 0.0809\n",
            "Epoch 325/600\n",
            "4/4 [==============================] - 0s 13ms/step - loss: 0.2402 - val_loss: 0.0806\n",
            "Epoch 326/600\n",
            "4/4 [==============================] - 0s 10ms/step - loss: 0.2513 - val_loss: 0.0797\n",
            "Epoch 327/600\n",
            "4/4 [==============================] - 0s 9ms/step - loss: 0.2730 - val_loss: 0.0805\n",
            "Epoch 328/600\n",
            "4/4 [==============================] - 0s 13ms/step - loss: 0.2680 - val_loss: 0.0856\n",
            "Epoch 329/600\n",
            "4/4 [==============================] - 0s 9ms/step - loss: 0.2320 - val_loss: 0.0893\n",
            "Epoch 330/600\n",
            "4/4 [==============================] - 0s 10ms/step - loss: 0.2241 - val_loss: 0.0868\n",
            "Epoch 331/600\n",
            "4/4 [==============================] - 0s 9ms/step - loss: 0.2681 - val_loss: 0.0841\n",
            "Epoch 332/600\n",
            "4/4 [==============================] - 0s 10ms/step - loss: 0.1867 - val_loss: 0.0816\n",
            "Epoch 333/600\n",
            "4/4 [==============================] - 0s 10ms/step - loss: 0.2050 - val_loss: 0.0799\n",
            "Epoch 334/600\n",
            "4/4 [==============================] - 0s 11ms/step - loss: 0.2109 - val_loss: 0.0795\n",
            "Epoch 335/600\n",
            "4/4 [==============================] - 0s 9ms/step - loss: 0.2424 - val_loss: 0.0790\n",
            "Epoch 336/600\n",
            "4/4 [==============================] - 0s 10ms/step - loss: 0.1758 - val_loss: 0.0785\n",
            "Epoch 337/600\n",
            "4/4 [==============================] - 0s 9ms/step - loss: 0.2157 - val_loss: 0.0794\n",
            "Epoch 338/600\n",
            "4/4 [==============================] - 0s 10ms/step - loss: 0.2356 - val_loss: 0.0800\n",
            "Epoch 339/600\n",
            "4/4 [==============================] - 0s 8ms/step - loss: 0.2149 - val_loss: 0.0807\n",
            "Epoch 340/600\n",
            "4/4 [==============================] - 0s 10ms/step - loss: 0.1945 - val_loss: 0.0801\n",
            "Epoch 341/600\n",
            "4/4 [==============================] - 0s 9ms/step - loss: 0.2407 - val_loss: 0.0796\n",
            "Epoch 342/600\n",
            "4/4 [==============================] - 0s 9ms/step - loss: 0.2281 - val_loss: 0.0770\n",
            "Epoch 343/600\n",
            "4/4 [==============================] - 0s 9ms/step - loss: 0.1897 - val_loss: 0.0752\n",
            "Epoch 344/600\n",
            "4/4 [==============================] - 0s 9ms/step - loss: 0.1818 - val_loss: 0.0742\n",
            "Epoch 345/600\n",
            "4/4 [==============================] - 0s 10ms/step - loss: 0.1694 - val_loss: 0.0739\n",
            "Epoch 346/600\n",
            "4/4 [==============================] - 0s 9ms/step - loss: 0.2450 - val_loss: 0.0736\n",
            "Epoch 347/600\n",
            "4/4 [==============================] - 0s 10ms/step - loss: 0.2460 - val_loss: 0.0741\n",
            "Epoch 348/600\n",
            "4/4 [==============================] - 0s 9ms/step - loss: 0.2523 - val_loss: 0.0754\n",
            "Epoch 349/600\n",
            "4/4 [==============================] - 0s 9ms/step - loss: 0.2105 - val_loss: 0.0782\n",
            "Epoch 350/600\n",
            "4/4 [==============================] - 0s 9ms/step - loss: 0.2258 - val_loss: 0.0781\n",
            "Epoch 351/600\n",
            "4/4 [==============================] - 0s 9ms/step - loss: 0.2167 - val_loss: 0.0747\n",
            "Epoch 352/600\n",
            "4/4 [==============================] - 0s 12ms/step - loss: 0.2130 - val_loss: 0.0730\n",
            "Epoch 353/600\n",
            "4/4 [==============================] - 0s 11ms/step - loss: 0.2335 - val_loss: 0.0720\n",
            "Epoch 354/600\n",
            "4/4 [==============================] - 0s 11ms/step - loss: 0.2250 - val_loss: 0.0722\n",
            "Epoch 355/600\n",
            "4/4 [==============================] - 0s 9ms/step - loss: 0.1795 - val_loss: 0.0721\n",
            "Epoch 356/600\n",
            "4/4 [==============================] - 0s 10ms/step - loss: 0.2539 - val_loss: 0.0713\n",
            "Epoch 357/600\n",
            "4/4 [==============================] - 0s 12ms/step - loss: 0.2438 - val_loss: 0.0714\n",
            "Epoch 358/600\n",
            "4/4 [==============================] - 0s 10ms/step - loss: 0.2487 - val_loss: 0.0733\n",
            "Epoch 359/600\n",
            "4/4 [==============================] - 0s 11ms/step - loss: 0.2186 - val_loss: 0.0730\n",
            "Epoch 360/600\n",
            "4/4 [==============================] - 0s 16ms/step - loss: 0.1724 - val_loss: 0.0726\n",
            "Epoch 361/600\n",
            "4/4 [==============================] - 0s 9ms/step - loss: 0.2062 - val_loss: 0.0731\n",
            "Epoch 362/600\n",
            "4/4 [==============================] - 0s 9ms/step - loss: 0.1805 - val_loss: 0.0728\n",
            "Epoch 363/600\n",
            "4/4 [==============================] - 0s 9ms/step - loss: 0.2588 - val_loss: 0.0703\n",
            "Epoch 364/600\n",
            "4/4 [==============================] - 0s 10ms/step - loss: 0.1612 - val_loss: 0.0690\n",
            "Epoch 365/600\n",
            "4/4 [==============================] - 0s 9ms/step - loss: 0.1779 - val_loss: 0.0692\n",
            "Epoch 366/600\n",
            "4/4 [==============================] - 0s 9ms/step - loss: 0.2093 - val_loss: 0.0692\n",
            "Epoch 367/600\n",
            "4/4 [==============================] - 0s 10ms/step - loss: 0.2256 - val_loss: 0.0688\n",
            "Epoch 368/600\n",
            "4/4 [==============================] - 0s 9ms/step - loss: 0.2102 - val_loss: 0.0681\n",
            "Epoch 369/600\n",
            "4/4 [==============================] - 0s 9ms/step - loss: 0.2442 - val_loss: 0.0677\n",
            "Epoch 370/600\n",
            "4/4 [==============================] - 0s 11ms/step - loss: 0.1881 - val_loss: 0.0680\n",
            "Epoch 371/600\n",
            "4/4 [==============================] - 0s 10ms/step - loss: 0.2151 - val_loss: 0.0684\n",
            "Epoch 372/600\n",
            "4/4 [==============================] - 0s 10ms/step - loss: 0.2035 - val_loss: 0.0695\n",
            "Epoch 373/600\n",
            "4/4 [==============================] - 0s 12ms/step - loss: 0.2237 - val_loss: 0.0690\n",
            "Epoch 374/600\n",
            "4/4 [==============================] - 0s 10ms/step - loss: 0.1868 - val_loss: 0.0688\n",
            "Epoch 375/600\n",
            "4/4 [==============================] - 0s 11ms/step - loss: 0.1941 - val_loss: 0.0678\n",
            "Epoch 376/600\n",
            "4/4 [==============================] - 0s 9ms/step - loss: 0.1896 - val_loss: 0.0672\n",
            "Epoch 377/600\n",
            "4/4 [==============================] - 0s 17ms/step - loss: 0.1905 - val_loss: 0.0667\n",
            "Epoch 378/600\n",
            "4/4 [==============================] - 0s 11ms/step - loss: 0.1741 - val_loss: 0.0676\n",
            "Epoch 379/600\n",
            "4/4 [==============================] - 0s 9ms/step - loss: 0.1559 - val_loss: 0.0695\n",
            "Epoch 380/600\n",
            "4/4 [==============================] - 0s 11ms/step - loss: 0.1807 - val_loss: 0.0716\n",
            "Epoch 381/600\n",
            "4/4 [==============================] - 0s 12ms/step - loss: 0.2279 - val_loss: 0.0702\n",
            "Epoch 382/600\n",
            "4/4 [==============================] - 0s 11ms/step - loss: 0.1987 - val_loss: 0.0687\n",
            "Epoch 383/600\n",
            "4/4 [==============================] - 0s 10ms/step - loss: 0.1971 - val_loss: 0.0669\n",
            "Epoch 384/600\n",
            "4/4 [==============================] - 0s 16ms/step - loss: 0.2087 - val_loss: 0.0651\n",
            "Epoch 385/600\n",
            "4/4 [==============================] - 0s 11ms/step - loss: 0.2385 - val_loss: 0.0648\n",
            "Epoch 386/600\n",
            "4/4 [==============================] - 0s 11ms/step - loss: 0.1986 - val_loss: 0.0654\n",
            "Epoch 387/600\n",
            "4/4 [==============================] - 0s 10ms/step - loss: 0.1587 - val_loss: 0.0649\n",
            "Epoch 388/600\n",
            "4/4 [==============================] - 0s 9ms/step - loss: 0.2055 - val_loss: 0.0647\n",
            "Epoch 389/600\n",
            "4/4 [==============================] - 0s 10ms/step - loss: 0.1989 - val_loss: 0.0658\n",
            "Epoch 390/600\n",
            "4/4 [==============================] - 0s 9ms/step - loss: 0.2804 - val_loss: 0.0658\n",
            "Epoch 391/600\n",
            "4/4 [==============================] - 0s 11ms/step - loss: 0.1875 - val_loss: 0.0655\n",
            "Epoch 392/600\n",
            "4/4 [==============================] - 0s 10ms/step - loss: 0.1681 - val_loss: 0.0636\n",
            "Epoch 393/600\n",
            "4/4 [==============================] - 0s 10ms/step - loss: 0.2114 - val_loss: 0.0629\n",
            "Epoch 394/600\n",
            "4/4 [==============================] - 0s 9ms/step - loss: 0.2259 - val_loss: 0.0628\n",
            "Epoch 395/600\n",
            "4/4 [==============================] - 0s 9ms/step - loss: 0.2126 - val_loss: 0.0628\n",
            "Epoch 396/600\n",
            "4/4 [==============================] - 0s 10ms/step - loss: 0.1764 - val_loss: 0.0628\n",
            "Epoch 397/600\n",
            "4/4 [==============================] - 0s 10ms/step - loss: 0.1946 - val_loss: 0.0628\n",
            "Epoch 398/600\n",
            "4/4 [==============================] - 0s 11ms/step - loss: 0.1808 - val_loss: 0.0631\n",
            "Epoch 399/600\n",
            "4/4 [==============================] - 0s 10ms/step - loss: 0.1854 - val_loss: 0.0634\n",
            "Epoch 400/600\n",
            "4/4 [==============================] - 0s 11ms/step - loss: 0.2469 - val_loss: 0.0636\n",
            "Epoch 401/600\n",
            "4/4 [==============================] - 0s 10ms/step - loss: 0.2040 - val_loss: 0.0632\n",
            "Epoch 402/600\n",
            "4/4 [==============================] - 0s 9ms/step - loss: 0.1770 - val_loss: 0.0625\n",
            "Epoch 403/600\n",
            "4/4 [==============================] - 0s 9ms/step - loss: 0.1825 - val_loss: 0.0620\n",
            "Epoch 404/600\n",
            "4/4 [==============================] - 0s 11ms/step - loss: 0.2009 - val_loss: 0.0617\n",
            "Epoch 405/600\n",
            "4/4 [==============================] - 0s 11ms/step - loss: 0.2166 - val_loss: 0.0628\n",
            "Epoch 406/600\n",
            "4/4 [==============================] - 0s 10ms/step - loss: 0.2759 - val_loss: 0.0640\n",
            "Epoch 407/600\n",
            "4/4 [==============================] - 0s 9ms/step - loss: 0.2009 - val_loss: 0.0625\n",
            "Epoch 408/600\n",
            "4/4 [==============================] - 0s 10ms/step - loss: 0.1825 - val_loss: 0.0615\n",
            "Epoch 409/600\n",
            "4/4 [==============================] - 0s 10ms/step - loss: 0.1770 - val_loss: 0.0611\n",
            "Epoch 410/600\n",
            "4/4 [==============================] - 0s 11ms/step - loss: 0.1846 - val_loss: 0.0606\n",
            "Epoch 411/600\n",
            "4/4 [==============================] - 0s 12ms/step - loss: 0.1764 - val_loss: 0.0605\n",
            "Epoch 412/600\n",
            "4/4 [==============================] - 0s 10ms/step - loss: 0.1567 - val_loss: 0.0603\n",
            "Epoch 413/600\n",
            "4/4 [==============================] - 0s 10ms/step - loss: 0.2178 - val_loss: 0.0603\n",
            "Epoch 414/600\n",
            "4/4 [==============================] - 0s 10ms/step - loss: 0.1728 - val_loss: 0.0603\n",
            "Epoch 415/600\n",
            "4/4 [==============================] - 0s 10ms/step - loss: 0.2019 - val_loss: 0.0602\n",
            "Epoch 416/600\n",
            "4/4 [==============================] - 0s 10ms/step - loss: 0.1704 - val_loss: 0.0598\n",
            "Epoch 417/600\n",
            "4/4 [==============================] - 0s 11ms/step - loss: 0.1964 - val_loss: 0.0594\n",
            "Epoch 418/600\n",
            "4/4 [==============================] - 0s 12ms/step - loss: 0.1824 - val_loss: 0.0591\n",
            "Epoch 419/600\n",
            "4/4 [==============================] - 0s 11ms/step - loss: 0.1666 - val_loss: 0.0592\n",
            "Epoch 420/600\n",
            "4/4 [==============================] - 0s 8ms/step - loss: 0.1917 - val_loss: 0.0602\n",
            "Epoch 421/600\n",
            "4/4 [==============================] - 0s 12ms/step - loss: 0.1816 - val_loss: 0.0626\n",
            "Epoch 422/600\n",
            "4/4 [==============================] - 0s 9ms/step - loss: 0.2009 - val_loss: 0.0648\n",
            "Epoch 423/600\n",
            "4/4 [==============================] - 0s 11ms/step - loss: 0.1749 - val_loss: 0.0664\n",
            "Epoch 424/600\n",
            "4/4 [==============================] - 0s 9ms/step - loss: 0.2299 - val_loss: 0.0637\n",
            "Epoch 425/600\n",
            "4/4 [==============================] - 0s 10ms/step - loss: 0.2037 - val_loss: 0.0603\n",
            "Epoch 426/600\n",
            "4/4 [==============================] - 0s 18ms/step - loss: 0.1662 - val_loss: 0.0588\n",
            "Epoch 427/600\n",
            "4/4 [==============================] - 0s 9ms/step - loss: 0.1916 - val_loss: 0.0587\n",
            "Epoch 428/600\n",
            "4/4 [==============================] - 0s 11ms/step - loss: 0.2244 - val_loss: 0.0592\n",
            "Epoch 429/600\n",
            "4/4 [==============================] - 0s 11ms/step - loss: 0.1868 - val_loss: 0.0602\n",
            "Epoch 430/600\n",
            "4/4 [==============================] - 0s 10ms/step - loss: 0.1750 - val_loss: 0.0629\n",
            "Epoch 431/600\n",
            "4/4 [==============================] - 0s 11ms/step - loss: 0.2295 - val_loss: 0.0632\n",
            "Epoch 432/600\n",
            "4/4 [==============================] - 0s 11ms/step - loss: 0.1440 - val_loss: 0.0628\n",
            "Epoch 433/600\n",
            "4/4 [==============================] - 0s 12ms/step - loss: 0.1845 - val_loss: 0.0619\n",
            "Epoch 434/600\n",
            "4/4 [==============================] - 0s 11ms/step - loss: 0.2046 - val_loss: 0.0612\n",
            "Epoch 435/600\n",
            "4/4 [==============================] - 0s 10ms/step - loss: 0.2036 - val_loss: 0.0605\n",
            "Epoch 436/600\n",
            "4/4 [==============================] - 0s 10ms/step - loss: 0.1754 - val_loss: 0.0587\n",
            "Epoch 437/600\n",
            "4/4 [==============================] - 0s 9ms/step - loss: 0.2663 - val_loss: 0.0565\n",
            "Epoch 438/600\n",
            "4/4 [==============================] - 0s 12ms/step - loss: 0.2193 - val_loss: 0.0583\n",
            "Epoch 439/600\n",
            "4/4 [==============================] - 0s 12ms/step - loss: 0.2191 - val_loss: 0.0626\n",
            "Epoch 440/600\n",
            "4/4 [==============================] - 0s 13ms/step - loss: 0.1869 - val_loss: 0.0624\n",
            "Epoch 441/600\n",
            "4/4 [==============================] - 0s 13ms/step - loss: 0.1995 - val_loss: 0.0588\n",
            "Epoch 442/600\n",
            "4/4 [==============================] - 0s 10ms/step - loss: 0.2003 - val_loss: 0.0561\n",
            "Epoch 443/600\n",
            "4/4 [==============================] - 0s 10ms/step - loss: 0.2085 - val_loss: 0.0554\n",
            "Epoch 444/600\n",
            "4/4 [==============================] - 0s 9ms/step - loss: 0.1548 - val_loss: 0.0558\n",
            "Epoch 445/600\n",
            "4/4 [==============================] - 0s 9ms/step - loss: 0.1433 - val_loss: 0.0566\n",
            "Epoch 446/600\n",
            "4/4 [==============================] - 0s 10ms/step - loss: 0.1238 - val_loss: 0.0578\n",
            "Epoch 447/600\n",
            "4/4 [==============================] - 0s 9ms/step - loss: 0.1811 - val_loss: 0.0591\n",
            "Epoch 448/600\n",
            "4/4 [==============================] - 0s 9ms/step - loss: 0.1564 - val_loss: 0.0591\n",
            "Epoch 449/600\n",
            "4/4 [==============================] - 0s 9ms/step - loss: 0.1314 - val_loss: 0.0587\n",
            "Epoch 450/600\n",
            "4/4 [==============================] - 0s 11ms/step - loss: 0.1462 - val_loss: 0.0587\n",
            "Epoch 451/600\n",
            "4/4 [==============================] - 0s 11ms/step - loss: 0.1638 - val_loss: 0.0580\n",
            "Epoch 452/600\n",
            "4/4 [==============================] - 0s 9ms/step - loss: 0.1630 - val_loss: 0.0565\n",
            "Epoch 453/600\n",
            "4/4 [==============================] - 0s 9ms/step - loss: 0.1970 - val_loss: 0.0551\n",
            "Epoch 454/600\n",
            "4/4 [==============================] - 0s 10ms/step - loss: 0.1376 - val_loss: 0.0565\n",
            "Epoch 455/600\n",
            "4/4 [==============================] - 0s 9ms/step - loss: 0.1757 - val_loss: 0.0584\n",
            "Epoch 456/600\n",
            "4/4 [==============================] - 0s 11ms/step - loss: 0.2326 - val_loss: 0.0605\n",
            "Epoch 457/600\n",
            "4/4 [==============================] - 0s 11ms/step - loss: 0.1514 - val_loss: 0.0590\n",
            "Epoch 458/600\n",
            "4/4 [==============================] - 0s 9ms/step - loss: 0.1816 - val_loss: 0.0568\n",
            "Epoch 459/600\n",
            "4/4 [==============================] - 0s 11ms/step - loss: 0.1902 - val_loss: 0.0559\n",
            "Epoch 460/600\n",
            "4/4 [==============================] - 0s 10ms/step - loss: 0.1176 - val_loss: 0.0548\n",
            "Epoch 461/600\n",
            "4/4 [==============================] - 0s 9ms/step - loss: 0.2126 - val_loss: 0.0544\n",
            "Epoch 462/600\n",
            "4/4 [==============================] - 0s 9ms/step - loss: 0.1650 - val_loss: 0.0547\n",
            "Epoch 463/600\n",
            "4/4 [==============================] - 0s 11ms/step - loss: 0.1622 - val_loss: 0.0553\n",
            "Epoch 464/600\n",
            "4/4 [==============================] - 0s 11ms/step - loss: 0.1988 - val_loss: 0.0559\n",
            "Epoch 465/600\n",
            "4/4 [==============================] - 0s 9ms/step - loss: 0.1780 - val_loss: 0.0553\n",
            "Epoch 466/600\n",
            "4/4 [==============================] - 0s 10ms/step - loss: 0.1740 - val_loss: 0.0548\n",
            "Epoch 467/600\n",
            "4/4 [==============================] - 0s 9ms/step - loss: 0.1857 - val_loss: 0.0548\n",
            "Epoch 468/600\n",
            "4/4 [==============================] - 0s 9ms/step - loss: 0.2097 - val_loss: 0.0546\n",
            "Epoch 469/600\n",
            "4/4 [==============================] - 0s 10ms/step - loss: 0.1763 - val_loss: 0.0546\n",
            "Epoch 470/600\n",
            "4/4 [==============================] - 0s 9ms/step - loss: 0.1459 - val_loss: 0.0547\n",
            "Epoch 471/600\n",
            "4/4 [==============================] - 0s 10ms/step - loss: 0.1916 - val_loss: 0.0556\n",
            "Epoch 472/600\n",
            "4/4 [==============================] - 0s 9ms/step - loss: 0.1990 - val_loss: 0.0556\n",
            "Epoch 473/600\n",
            "4/4 [==============================] - 0s 9ms/step - loss: 0.1349 - val_loss: 0.0546\n",
            "Epoch 474/600\n",
            "4/4 [==============================] - 0s 9ms/step - loss: 0.2092 - val_loss: 0.0536\n",
            "Epoch 475/600\n",
            "4/4 [==============================] - 0s 11ms/step - loss: 0.1503 - val_loss: 0.0534\n",
            "Epoch 476/600\n",
            "4/4 [==============================] - 0s 11ms/step - loss: 0.1616 - val_loss: 0.0533\n",
            "Epoch 477/600\n",
            "4/4 [==============================] - 0s 13ms/step - loss: 0.1603 - val_loss: 0.0537\n",
            "Epoch 478/600\n",
            "4/4 [==============================] - 0s 10ms/step - loss: 0.1595 - val_loss: 0.0543\n",
            "Epoch 479/600\n",
            "4/4 [==============================] - 0s 10ms/step - loss: 0.1969 - val_loss: 0.0532\n",
            "Epoch 480/600\n",
            "4/4 [==============================] - 0s 11ms/step - loss: 0.1729 - val_loss: 0.0527\n",
            "Epoch 481/600\n",
            "4/4 [==============================] - 0s 11ms/step - loss: 0.2055 - val_loss: 0.0525\n",
            "Epoch 482/600\n",
            "4/4 [==============================] - 0s 9ms/step - loss: 0.1555 - val_loss: 0.0528\n",
            "Epoch 483/600\n",
            "4/4 [==============================] - 0s 12ms/step - loss: 0.1909 - val_loss: 0.0533\n",
            "Epoch 484/600\n",
            "4/4 [==============================] - 0s 9ms/step - loss: 0.1524 - val_loss: 0.0534\n",
            "Epoch 485/600\n",
            "4/4 [==============================] - 0s 12ms/step - loss: 0.2005 - val_loss: 0.0528\n",
            "Epoch 486/600\n",
            "4/4 [==============================] - 0s 9ms/step - loss: 0.1928 - val_loss: 0.0526\n",
            "Epoch 487/600\n",
            "4/4 [==============================] - 0s 10ms/step - loss: 0.1218 - val_loss: 0.0523\n",
            "Epoch 488/600\n",
            "4/4 [==============================] - 0s 9ms/step - loss: 0.1851 - val_loss: 0.0520\n",
            "Epoch 489/600\n",
            "4/4 [==============================] - 0s 10ms/step - loss: 0.1341 - val_loss: 0.0517\n",
            "Epoch 490/600\n",
            "4/4 [==============================] - 0s 9ms/step - loss: 0.1502 - val_loss: 0.0518\n",
            "Epoch 491/600\n",
            "4/4 [==============================] - 0s 9ms/step - loss: 0.1541 - val_loss: 0.0521\n",
            "Epoch 492/600\n",
            "4/4 [==============================] - 0s 13ms/step - loss: 0.1809 - val_loss: 0.0525\n",
            "Epoch 493/600\n",
            "4/4 [==============================] - 0s 10ms/step - loss: 0.1932 - val_loss: 0.0523\n",
            "Epoch 494/600\n",
            "4/4 [==============================] - 0s 12ms/step - loss: 0.1897 - val_loss: 0.0549\n",
            "Epoch 495/600\n",
            "4/4 [==============================] - 0s 10ms/step - loss: 0.2189 - val_loss: 0.0578\n",
            "Epoch 496/600\n",
            "4/4 [==============================] - 0s 10ms/step - loss: 0.1684 - val_loss: 0.0578\n",
            "Epoch 497/600\n",
            "4/4 [==============================] - 0s 10ms/step - loss: 0.1452 - val_loss: 0.0544\n",
            "Epoch 498/600\n",
            "4/4 [==============================] - 0s 10ms/step - loss: 0.2405 - val_loss: 0.0517\n",
            "Epoch 499/600\n",
            "4/4 [==============================] - 0s 9ms/step - loss: 0.1664 - val_loss: 0.0511\n",
            "Epoch 500/600\n",
            "4/4 [==============================] - 0s 10ms/step - loss: 0.1619 - val_loss: 0.0510\n",
            "Epoch 501/600\n",
            "4/4 [==============================] - 0s 12ms/step - loss: 0.1908 - val_loss: 0.0508\n",
            "Epoch 502/600\n",
            "4/4 [==============================] - 0s 9ms/step - loss: 0.1853 - val_loss: 0.0510\n",
            "Epoch 503/600\n",
            "4/4 [==============================] - 0s 10ms/step - loss: 0.2356 - val_loss: 0.0497\n",
            "Epoch 504/600\n",
            "4/4 [==============================] - 0s 11ms/step - loss: 0.1510 - val_loss: 0.0484\n",
            "Epoch 505/600\n",
            "4/4 [==============================] - 0s 10ms/step - loss: 0.2050 - val_loss: 0.0479\n",
            "Epoch 506/600\n",
            "4/4 [==============================] - 0s 11ms/step - loss: 0.1444 - val_loss: 0.0478\n",
            "Epoch 507/600\n",
            "4/4 [==============================] - 0s 11ms/step - loss: 0.1596 - val_loss: 0.0478\n",
            "Epoch 508/600\n",
            "4/4 [==============================] - 0s 10ms/step - loss: 0.1705 - val_loss: 0.0472\n",
            "Epoch 509/600\n",
            "4/4 [==============================] - 0s 10ms/step - loss: 0.2117 - val_loss: 0.0466\n",
            "Epoch 510/600\n",
            "4/4 [==============================] - 0s 9ms/step - loss: 0.1471 - val_loss: 0.0465\n",
            "Epoch 511/600\n",
            "4/4 [==============================] - 0s 10ms/step - loss: 0.1277 - val_loss: 0.0464\n",
            "Epoch 512/600\n",
            "4/4 [==============================] - 0s 11ms/step - loss: 0.2282 - val_loss: 0.0463\n",
            "Epoch 513/600\n",
            "4/4 [==============================] - 0s 9ms/step - loss: 0.1923 - val_loss: 0.0464\n",
            "Epoch 514/600\n",
            "4/4 [==============================] - 0s 10ms/step - loss: 0.1689 - val_loss: 0.0466\n",
            "Epoch 515/600\n",
            "4/4 [==============================] - 0s 10ms/step - loss: 0.1394 - val_loss: 0.0470\n",
            "Epoch 516/600\n",
            "4/4 [==============================] - 0s 10ms/step - loss: 0.0915 - val_loss: 0.0477\n",
            "Epoch 517/600\n",
            "4/4 [==============================] - 0s 10ms/step - loss: 0.1571 - val_loss: 0.0485\n",
            "Epoch 518/600\n",
            "4/4 [==============================] - 0s 10ms/step - loss: 0.1840 - val_loss: 0.0490\n",
            "Epoch 519/600\n",
            "4/4 [==============================] - 0s 9ms/step - loss: 0.2015 - val_loss: 0.0487\n",
            "Epoch 520/600\n",
            "4/4 [==============================] - 0s 12ms/step - loss: 0.1629 - val_loss: 0.0483\n",
            "Epoch 521/600\n",
            "4/4 [==============================] - 0s 11ms/step - loss: 0.1501 - val_loss: 0.0477\n",
            "Epoch 522/600\n",
            "4/4 [==============================] - 0s 11ms/step - loss: 0.2214 - val_loss: 0.0467\n",
            "Epoch 523/600\n",
            "4/4 [==============================] - 0s 9ms/step - loss: 0.1850 - val_loss: 0.0465\n",
            "Epoch 524/600\n",
            "4/4 [==============================] - 0s 10ms/step - loss: 0.1635 - val_loss: 0.0467\n",
            "Epoch 525/600\n",
            "4/4 [==============================] - 0s 10ms/step - loss: 0.1735 - val_loss: 0.0474\n",
            "Epoch 526/600\n",
            "4/4 [==============================] - 0s 12ms/step - loss: 0.2247 - val_loss: 0.0471\n",
            "Epoch 527/600\n",
            "4/4 [==============================] - 0s 14ms/step - loss: 0.1891 - val_loss: 0.0476\n",
            "Epoch 528/600\n",
            "4/4 [==============================] - 0s 11ms/step - loss: 0.1496 - val_loss: 0.0481\n",
            "Epoch 529/600\n",
            "4/4 [==============================] - 0s 10ms/step - loss: 0.1928 - val_loss: 0.0481\n",
            "Epoch 530/600\n",
            "4/4 [==============================] - 0s 10ms/step - loss: 0.2017 - val_loss: 0.0479\n",
            "Epoch 531/600\n",
            "4/4 [==============================] - 0s 10ms/step - loss: 0.1744 - val_loss: 0.0479\n",
            "Epoch 532/600\n",
            "4/4 [==============================] - 0s 9ms/step - loss: 0.1612 - val_loss: 0.0486\n"
          ],
          "name": "stdout"
        },
        {
          "output_type": "execute_result",
          "data": {
            "text/plain": [
              "<tensorflow.python.keras.callbacks.History at 0x7faad7724f90>"
            ]
          },
          "metadata": {
            "tags": []
          },
          "execution_count": 268
        }
      ]
    },
    {
      "cell_type": "code",
      "metadata": {
        "colab": {
          "base_uri": "https://localhost:8080/",
          "height": 284
        },
        "id": "x_ovpjk1NlhA",
        "outputId": "32aebfa8-a928-4321-85f6-cd6491feee5d"
      },
      "source": [
        "pd.DataFrame(model.history.history).plot()"
      ],
      "execution_count": null,
      "outputs": [
        {
          "output_type": "execute_result",
          "data": {
            "text/plain": [
              "<matplotlib.axes._subplots.AxesSubplot at 0x7faad6db0c10>"
            ]
          },
          "metadata": {
            "tags": []
          },
          "execution_count": 269
        },
        {
          "output_type": "display_data",
          "data": {
            "image/png": "[encoded data removed]",
            "text/plain": [
              "<Figure size 432x288 with 1 Axes>"
            ]
          },
          "metadata": {
            "tags": [],
            "needs_background": "light"
          }
        }
      ]
    },
    {
      "cell_type": "code",
      "metadata": {
        "colab": {
          "base_uri": "https://localhost:8080/"
        },
        "id": "NgZFErI-NXjB",
        "outputId": "fb8e446d-db9f-45d3-f1e8-5127f6700498"
      },
      "source": [
        "predictions=model.predict_classes(X_test, batch_size=15, verbose=0)"
      ],
      "execution_count": null,
      "outputs": [
        {
          "output_type": "stream",
          "text": [
            "/usr/local/lib/python3.7/dist-packages/tensorflow/python/keras/engine/sequential.py:455: UserWarning: `model.predict_classes()` is deprecated and will be removed after 2021-01-01. Please use instead:* `np.argmax(model.predict(x), axis=-1)`,   if your model does multi-class classification   (e.g. if it uses a `softmax` last-layer activation).* `(model.predict(x) > 0.5).astype(\"int32\")`,   if your model does binary classification   (e.g. if it uses a `sigmoid` last-layer activation).\n",
            "  warnings.warn('`model.predict_classes()` is deprecated and '\n"
          ],
          "name": "stderr"
        }
      ]
    },
    {
      "cell_type": "code",
      "metadata": {
        "id": "XUyDkivnPGy-",
        "colab": {
          "base_uri": "https://localhost:8080/"
        },
        "outputId": "bf566367-b269-4ce8-9522-f9ec7edbcf8c"
      },
      "source": [
        "predictions"
      ],
      "execution_count": null,
      "outputs": [
        {
          "output_type": "execute_result",
          "data": {
            "text/plain": [
              "array([1, 0, 2, 1, 1, 0, 1, 2, 2, 1, 2, 0, 0, 0, 0, 1, 2, 1, 1, 2, 0, 2,\n",
              "       0, 2, 2, 2, 2, 2, 0, 0, 0, 0, 1, 0, 0, 2, 1, 0, 0, 0, 2, 1, 1, 0,\n",
              "       0])"
            ]
          },
          "metadata": {
            "tags": []
          },
          "execution_count": 271
        }
      ]
    },
    {
      "cell_type": "code",
      "metadata": {
        "colab": {
          "base_uri": "https://localhost:8080/"
        },
        "id": "otKZ28ZnTTwR",
        "outputId": "fdca00cb-a68e-47c7-e5ed-9338c1dcd0d5"
      },
      "source": [
        "y_test"
      ],
      "execution_count": null,
      "outputs": [
        {
          "output_type": "execute_result",
          "data": {
            "text/plain": [
              "array([[0., 1., 0.],\n",
              "       [1., 0., 0.],\n",
              "       [0., 0., 1.],\n",
              "       [0., 1., 0.],\n",
              "       [0., 1., 0.],\n",
              "       [1., 0., 0.],\n",
              "       [0., 1., 0.],\n",
              "       [0., 0., 1.],\n",
              "       [0., 1., 0.],\n",
              "       [0., 1., 0.],\n",
              "       [0., 0., 1.],\n",
              "       [1., 0., 0.],\n",
              "       [1., 0., 0.],\n",
              "       [1., 0., 0.],\n",
              "       [1., 0., 0.],\n",
              "       [0., 1., 0.],\n",
              "       [0., 0., 1.],\n",
              "       [0., 1., 0.],\n",
              "       [0., 1., 0.],\n",
              "       [0., 0., 1.],\n",
              "       [1., 0., 0.],\n",
              "       [0., 0., 1.],\n",
              "       [1., 0., 0.],\n",
              "       [0., 0., 1.],\n",
              "       [0., 0., 1.],\n",
              "       [0., 0., 1.],\n",
              "       [0., 0., 1.],\n",
              "       [0., 0., 1.],\n",
              "       [1., 0., 0.],\n",
              "       [1., 0., 0.],\n",
              "       [1., 0., 0.],\n",
              "       [1., 0., 0.],\n",
              "       [0., 1., 0.],\n",
              "       [1., 0., 0.],\n",
              "       [1., 0., 0.],\n",
              "       [0., 0., 1.],\n",
              "       [0., 1., 0.],\n",
              "       [1., 0., 0.],\n",
              "       [1., 0., 0.],\n",
              "       [1., 0., 0.],\n",
              "       [0., 0., 1.],\n",
              "       [0., 1., 0.],\n",
              "       [0., 1., 0.],\n",
              "       [1., 0., 0.],\n",
              "       [1., 0., 0.]], dtype=float32)"
            ]
          },
          "metadata": {
            "tags": []
          },
          "execution_count": 272
        }
      ]
    },
    {
      "cell_type": "code",
      "metadata": {
        "colab": {
          "base_uri": "https://localhost:8080/"
        },
        "id": "yjDRjB3CPVX1",
        "outputId": "bb8a550a-e077-461b-fdd2-22aefb5ec4f1"
      },
      "source": [
        "print(classification_report(encoded_y_test,predictions))"
      ],
      "execution_count": null,
      "outputs": [
        {
          "output_type": "stream",
          "text": [
            "              precision    recall  f1-score   support\n",
            "\n",
            "           0       1.00      1.00      1.00        19\n",
            "           1       1.00      0.92      0.96        13\n",
            "           2       0.93      1.00      0.96        13\n",
            "\n",
            "    accuracy                           0.98        45\n",
            "   macro avg       0.98      0.97      0.97        45\n",
            "weighted avg       0.98      0.98      0.98        45\n",
            "\n"
          ],
          "name": "stdout"
        }
      ]
    },
    {
      "cell_type": "code",
      "metadata": {
        "id": "9-CndJ2qRCJV",
        "colab": {
          "base_uri": "https://localhost:8080/"
        },
        "outputId": "4f4c52e9-8985-4d19-a13e-600df8242aaa"
      },
      "source": [
        "print(confusion_matrix(encoded_y_test,predictions))"
      ],
      "execution_count": null,
      "outputs": [
        {
          "output_type": "stream",
          "text": [
            "[[19  0  0]\n",
            " [ 0 12  1]\n",
            " [ 0  0 13]]\n"
          ],
          "name": "stdout"
        }
      ]
    },
    {
      "cell_type": "markdown",
      "metadata": {
        "id": "MXB5yYNCVnSg"
      },
      "source": [
        "trying to predict a new data"
      ]
    },
    {
      "cell_type": "code",
      "metadata": {
        "id": "Qco9R7LFU0w6"
      },
      "source": [
        "x_new=np.array([1,2.3,3,5])"
      ],
      "execution_count": null,
      "outputs": []
    },
    {
      "cell_type": "code",
      "metadata": {
        "colab": {
          "base_uri": "https://localhost:8080/"
        },
        "id": "HcgTMobfV3cI",
        "outputId": "c69467ac-e970-4365-ecd2-a5da17bc3cc3"
      },
      "source": [
        "result=model.predict_classes(x_new.reshape(1,-1))"
      ],
      "execution_count": null,
      "outputs": [
        {
          "output_type": "stream",
          "text": [
            "/usr/local/lib/python3.7/dist-packages/tensorflow/python/keras/engine/sequential.py:455: UserWarning: `model.predict_classes()` is deprecated and will be removed after 2021-01-01. Please use instead:* `np.argmax(model.predict(x), axis=-1)`,   if your model does multi-class classification   (e.g. if it uses a `softmax` last-layer activation).* `(model.predict(x) > 0.5).astype(\"int32\")`,   if your model does binary classification   (e.g. if it uses a `sigmoid` last-layer activation).\n",
            "  warnings.warn('`model.predict_classes()` is deprecated and '\n"
          ],
          "name": "stderr"
        }
      ]
    },
    {
      "cell_type": "code",
      "metadata": {
        "colab": {
          "base_uri": "https://localhost:8080/"
        },
        "id": "jSYuOGK8V9A5",
        "outputId": "a02a332c-561d-4370-ed85-d1f25e6d16c3"
      },
      "source": [
        "result"
      ],
      "execution_count": null,
      "outputs": [
        {
          "output_type": "execute_result",
          "data": {
            "text/plain": [
              "array([2])"
            ]
          },
          "metadata": {
            "tags": []
          },
          "execution_count": 287
        }
      ]
    },
    {
      "cell_type": "code",
      "metadata": {
        "colab": {
          "base_uri": "https://localhost:8080/"
        },
        "id": "EDWBqwO9WnAU",
        "outputId": "85277e52-8e58-4dcf-8e7b-003fefde78fc"
      },
      "source": [
        "y_test[0]"
      ],
      "execution_count": null,
      "outputs": [
        {
          "output_type": "execute_result",
          "data": {
            "text/plain": [
              "array([0., 1., 0.], dtype=float32)"
            ]
          },
          "metadata": {
            "tags": []
          },
          "execution_count": 288
        }
      ]
    },
    {
      "cell_type": "code",
      "metadata": {
        "colab": {
          "base_uri": "https://localhost:8080/"
        },
        "id": "M-_KtEKXW14T",
        "outputId": "fee4ac6f-d294-48bb-c8b5-c3b5d08ff975"
      },
      "source": [
        "result1=model.predict_classes(X_test[0].reshape(1,-1))"
      ],
      "execution_count": null,
      "outputs": [
        {
          "output_type": "stream",
          "text": [
            "/usr/local/lib/python3.7/dist-packages/tensorflow/python/keras/engine/sequential.py:455: UserWarning: `model.predict_classes()` is deprecated and will be removed after 2021-01-01. Please use instead:* `np.argmax(model.predict(x), axis=-1)`,   if your model does multi-class classification   (e.g. if it uses a `softmax` last-layer activation).* `(model.predict(x) > 0.5).astype(\"int32\")`,   if your model does binary classification   (e.g. if it uses a `sigmoid` last-layer activation).\n",
            "  warnings.warn('`model.predict_classes()` is deprecated and '\n"
          ],
          "name": "stderr"
        }
      ]
    },
    {
      "cell_type": "code",
      "metadata": {
        "colab": {
          "base_uri": "https://localhost:8080/"
        },
        "id": "3vreVqEpW__z",
        "outputId": "0b167fa2-03f6-4f2d-f01a-1b8826e0d787"
      },
      "source": [
        "result1"
      ],
      "execution_count": null,
      "outputs": [
        {
          "output_type": "execute_result",
          "data": {
            "text/plain": [
              "array([1])"
            ]
          },
          "metadata": {
            "tags": []
          },
          "execution_count": 290
        }
      ]
    },
    {
      "cell_type": "code",
      "metadata": {
        "id": "DD6q-hF4XD0y"
      },
      "source": [
        ""
      ],
      "execution_count": null,
      "outputs": []
    }
  ]
}